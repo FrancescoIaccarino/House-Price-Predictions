{
 "cells": [
  {
   "cell_type": "markdown",
   "id": "5b341cbe-bf89-4bfb-94c7-22b27eb8f6c1",
   "metadata": {
    "tags": []
   },
   "source": [
    "# Francesco Iaccarino, KAGGLE USERNAME: Francesco Iaccarino 3170051\n"
   ]
  },
  {
   "cell_type": "markdown",
   "id": "c830ad11-093b-4d2e-b303-c5ebfa53b9c2",
   "metadata": {
    "tags": []
   },
   "source": [
    "### Importing all the necessary stuff"
   ]
  },
  {
   "cell_type": "code",
   "execution_count": 1,
   "id": "8602b7a7-f69a-47df-a981-077d8218946c",
   "metadata": {
    "tags": []
   },
   "outputs": [],
   "source": [
    "import pandas as pd\n",
    "from matplotlib import pyplot as plt\n",
    "import numpy as np\n",
    "import seaborn as sns\n",
    "from scipy import stats\n",
    "from sklearn.metrics import mean_squared_error\n",
    "from sklearn.linear_model import LinearRegression\n",
    "from sklearn.model_selection import train_test_split\n",
    "from sklearn.ensemble import RandomForestRegressor\n",
    "from sklearn.metrics import mean_squared_error \n",
    "from sklearn import metrics\n",
    "from sklearn.preprocessing import StandardScaler\n",
    "from sklearn.neighbors import NearestNeighbors\n",
    "from sklearn.cluster import KMeans\n",
    "from sklearn.decomposition import PCA\n",
    "from sklearn.pipeline import Pipeline"
   ]
  },
  {
   "cell_type": "code",
   "execution_count": 2,
   "id": "1a49d5de-52be-4a87-b341-a44c8c3b3500",
   "metadata": {
    "tags": []
   },
   "outputs": [
    {
     "ename": "FileNotFoundError",
     "evalue": "[Errno 2] No such file or directory: '/Users/francescoiaccarino/Desktop/Università/Jupyter notebook/Folders/train.csv'",
     "output_type": "error",
     "traceback": [
      "\u001b[0;31m---------------------------------------------------------------------------\u001b[0m",
      "\u001b[0;31mFileNotFoundError\u001b[0m                         Traceback (most recent call last)",
      "Cell \u001b[0;32mIn[2], line 1\u001b[0m\n\u001b[0;32m----> 1\u001b[0m train \u001b[38;5;241m=\u001b[39m \u001b[43mpd\u001b[49m\u001b[38;5;241;43m.\u001b[39;49m\u001b[43mread_csv\u001b[49m\u001b[43m(\u001b[49m\u001b[38;5;124;43m\"\u001b[39;49m\u001b[38;5;124;43m/Users/francescoiaccarino/Desktop/Università/Jupyter notebook/Folders/train.csv\u001b[39;49m\u001b[38;5;124;43m\"\u001b[39;49m\u001b[43m)\u001b[49m\n\u001b[1;32m      2\u001b[0m test \u001b[38;5;241m=\u001b[39m pd\u001b[38;5;241m.\u001b[39mread_csv(\u001b[38;5;124m\"\u001b[39m\u001b[38;5;124m/Users/francescoiaccarino/Desktop/Università/Jupyter notebook/Folders/test_updated.csv\u001b[39m\u001b[38;5;124m\"\u001b[39m)\n\u001b[1;32m      3\u001b[0m poi \u001b[38;5;241m=\u001b[39m pd\u001b[38;5;241m.\u001b[39mread_csv(\u001b[38;5;124m\"\u001b[39m\u001b[38;5;124m/Users/francescoiaccarino/Desktop/Università/Jupyter notebook/Folders/poi.csv\u001b[39m\u001b[38;5;124m\"\u001b[39m, low_memory \u001b[38;5;241m=\u001b[39m \u001b[38;5;28;01mFalse\u001b[39;00m)\n",
      "File \u001b[0;32m/Library/Frameworks/Python.framework/Versions/3.11/lib/python3.11/site-packages/pandas/io/parsers/readers.py:912\u001b[0m, in \u001b[0;36mread_csv\u001b[0;34m(filepath_or_buffer, sep, delimiter, header, names, index_col, usecols, dtype, engine, converters, true_values, false_values, skipinitialspace, skiprows, skipfooter, nrows, na_values, keep_default_na, na_filter, verbose, skip_blank_lines, parse_dates, infer_datetime_format, keep_date_col, date_parser, date_format, dayfirst, cache_dates, iterator, chunksize, compression, thousands, decimal, lineterminator, quotechar, quoting, doublequote, escapechar, comment, encoding, encoding_errors, dialect, on_bad_lines, delim_whitespace, low_memory, memory_map, float_precision, storage_options, dtype_backend)\u001b[0m\n\u001b[1;32m    899\u001b[0m kwds_defaults \u001b[38;5;241m=\u001b[39m _refine_defaults_read(\n\u001b[1;32m    900\u001b[0m     dialect,\n\u001b[1;32m    901\u001b[0m     delimiter,\n\u001b[0;32m   (...)\u001b[0m\n\u001b[1;32m    908\u001b[0m     dtype_backend\u001b[38;5;241m=\u001b[39mdtype_backend,\n\u001b[1;32m    909\u001b[0m )\n\u001b[1;32m    910\u001b[0m kwds\u001b[38;5;241m.\u001b[39mupdate(kwds_defaults)\n\u001b[0;32m--> 912\u001b[0m \u001b[38;5;28;01mreturn\u001b[39;00m \u001b[43m_read\u001b[49m\u001b[43m(\u001b[49m\u001b[43mfilepath_or_buffer\u001b[49m\u001b[43m,\u001b[49m\u001b[43m \u001b[49m\u001b[43mkwds\u001b[49m\u001b[43m)\u001b[49m\n",
      "File \u001b[0;32m/Library/Frameworks/Python.framework/Versions/3.11/lib/python3.11/site-packages/pandas/io/parsers/readers.py:577\u001b[0m, in \u001b[0;36m_read\u001b[0;34m(filepath_or_buffer, kwds)\u001b[0m\n\u001b[1;32m    574\u001b[0m _validate_names(kwds\u001b[38;5;241m.\u001b[39mget(\u001b[38;5;124m\"\u001b[39m\u001b[38;5;124mnames\u001b[39m\u001b[38;5;124m\"\u001b[39m, \u001b[38;5;28;01mNone\u001b[39;00m))\n\u001b[1;32m    576\u001b[0m \u001b[38;5;66;03m# Create the parser.\u001b[39;00m\n\u001b[0;32m--> 577\u001b[0m parser \u001b[38;5;241m=\u001b[39m \u001b[43mTextFileReader\u001b[49m\u001b[43m(\u001b[49m\u001b[43mfilepath_or_buffer\u001b[49m\u001b[43m,\u001b[49m\u001b[43m \u001b[49m\u001b[38;5;241;43m*\u001b[39;49m\u001b[38;5;241;43m*\u001b[39;49m\u001b[43mkwds\u001b[49m\u001b[43m)\u001b[49m\n\u001b[1;32m    579\u001b[0m \u001b[38;5;28;01mif\u001b[39;00m chunksize \u001b[38;5;129;01mor\u001b[39;00m iterator:\n\u001b[1;32m    580\u001b[0m     \u001b[38;5;28;01mreturn\u001b[39;00m parser\n",
      "File \u001b[0;32m/Library/Frameworks/Python.framework/Versions/3.11/lib/python3.11/site-packages/pandas/io/parsers/readers.py:1407\u001b[0m, in \u001b[0;36mTextFileReader.__init__\u001b[0;34m(self, f, engine, **kwds)\u001b[0m\n\u001b[1;32m   1404\u001b[0m     \u001b[38;5;28mself\u001b[39m\u001b[38;5;241m.\u001b[39moptions[\u001b[38;5;124m\"\u001b[39m\u001b[38;5;124mhas_index_names\u001b[39m\u001b[38;5;124m\"\u001b[39m] \u001b[38;5;241m=\u001b[39m kwds[\u001b[38;5;124m\"\u001b[39m\u001b[38;5;124mhas_index_names\u001b[39m\u001b[38;5;124m\"\u001b[39m]\n\u001b[1;32m   1406\u001b[0m \u001b[38;5;28mself\u001b[39m\u001b[38;5;241m.\u001b[39mhandles: IOHandles \u001b[38;5;241m|\u001b[39m \u001b[38;5;28;01mNone\u001b[39;00m \u001b[38;5;241m=\u001b[39m \u001b[38;5;28;01mNone\u001b[39;00m\n\u001b[0;32m-> 1407\u001b[0m \u001b[38;5;28mself\u001b[39m\u001b[38;5;241m.\u001b[39m_engine \u001b[38;5;241m=\u001b[39m \u001b[38;5;28;43mself\u001b[39;49m\u001b[38;5;241;43m.\u001b[39;49m\u001b[43m_make_engine\u001b[49m\u001b[43m(\u001b[49m\u001b[43mf\u001b[49m\u001b[43m,\u001b[49m\u001b[43m \u001b[49m\u001b[38;5;28;43mself\u001b[39;49m\u001b[38;5;241;43m.\u001b[39;49m\u001b[43mengine\u001b[49m\u001b[43m)\u001b[49m\n",
      "File \u001b[0;32m/Library/Frameworks/Python.framework/Versions/3.11/lib/python3.11/site-packages/pandas/io/parsers/readers.py:1661\u001b[0m, in \u001b[0;36mTextFileReader._make_engine\u001b[0;34m(self, f, engine)\u001b[0m\n\u001b[1;32m   1659\u001b[0m     \u001b[38;5;28;01mif\u001b[39;00m \u001b[38;5;124m\"\u001b[39m\u001b[38;5;124mb\u001b[39m\u001b[38;5;124m\"\u001b[39m \u001b[38;5;129;01mnot\u001b[39;00m \u001b[38;5;129;01min\u001b[39;00m mode:\n\u001b[1;32m   1660\u001b[0m         mode \u001b[38;5;241m+\u001b[39m\u001b[38;5;241m=\u001b[39m \u001b[38;5;124m\"\u001b[39m\u001b[38;5;124mb\u001b[39m\u001b[38;5;124m\"\u001b[39m\n\u001b[0;32m-> 1661\u001b[0m \u001b[38;5;28mself\u001b[39m\u001b[38;5;241m.\u001b[39mhandles \u001b[38;5;241m=\u001b[39m \u001b[43mget_handle\u001b[49m\u001b[43m(\u001b[49m\n\u001b[1;32m   1662\u001b[0m \u001b[43m    \u001b[49m\u001b[43mf\u001b[49m\u001b[43m,\u001b[49m\n\u001b[1;32m   1663\u001b[0m \u001b[43m    \u001b[49m\u001b[43mmode\u001b[49m\u001b[43m,\u001b[49m\n\u001b[1;32m   1664\u001b[0m \u001b[43m    \u001b[49m\u001b[43mencoding\u001b[49m\u001b[38;5;241;43m=\u001b[39;49m\u001b[38;5;28;43mself\u001b[39;49m\u001b[38;5;241;43m.\u001b[39;49m\u001b[43moptions\u001b[49m\u001b[38;5;241;43m.\u001b[39;49m\u001b[43mget\u001b[49m\u001b[43m(\u001b[49m\u001b[38;5;124;43m\"\u001b[39;49m\u001b[38;5;124;43mencoding\u001b[39;49m\u001b[38;5;124;43m\"\u001b[39;49m\u001b[43m,\u001b[49m\u001b[43m \u001b[49m\u001b[38;5;28;43;01mNone\u001b[39;49;00m\u001b[43m)\u001b[49m\u001b[43m,\u001b[49m\n\u001b[1;32m   1665\u001b[0m \u001b[43m    \u001b[49m\u001b[43mcompression\u001b[49m\u001b[38;5;241;43m=\u001b[39;49m\u001b[38;5;28;43mself\u001b[39;49m\u001b[38;5;241;43m.\u001b[39;49m\u001b[43moptions\u001b[49m\u001b[38;5;241;43m.\u001b[39;49m\u001b[43mget\u001b[49m\u001b[43m(\u001b[49m\u001b[38;5;124;43m\"\u001b[39;49m\u001b[38;5;124;43mcompression\u001b[39;49m\u001b[38;5;124;43m\"\u001b[39;49m\u001b[43m,\u001b[49m\u001b[43m \u001b[49m\u001b[38;5;28;43;01mNone\u001b[39;49;00m\u001b[43m)\u001b[49m\u001b[43m,\u001b[49m\n\u001b[1;32m   1666\u001b[0m \u001b[43m    \u001b[49m\u001b[43mmemory_map\u001b[49m\u001b[38;5;241;43m=\u001b[39;49m\u001b[38;5;28;43mself\u001b[39;49m\u001b[38;5;241;43m.\u001b[39;49m\u001b[43moptions\u001b[49m\u001b[38;5;241;43m.\u001b[39;49m\u001b[43mget\u001b[49m\u001b[43m(\u001b[49m\u001b[38;5;124;43m\"\u001b[39;49m\u001b[38;5;124;43mmemory_map\u001b[39;49m\u001b[38;5;124;43m\"\u001b[39;49m\u001b[43m,\u001b[49m\u001b[43m \u001b[49m\u001b[38;5;28;43;01mFalse\u001b[39;49;00m\u001b[43m)\u001b[49m\u001b[43m,\u001b[49m\n\u001b[1;32m   1667\u001b[0m \u001b[43m    \u001b[49m\u001b[43mis_text\u001b[49m\u001b[38;5;241;43m=\u001b[39;49m\u001b[43mis_text\u001b[49m\u001b[43m,\u001b[49m\n\u001b[1;32m   1668\u001b[0m \u001b[43m    \u001b[49m\u001b[43merrors\u001b[49m\u001b[38;5;241;43m=\u001b[39;49m\u001b[38;5;28;43mself\u001b[39;49m\u001b[38;5;241;43m.\u001b[39;49m\u001b[43moptions\u001b[49m\u001b[38;5;241;43m.\u001b[39;49m\u001b[43mget\u001b[49m\u001b[43m(\u001b[49m\u001b[38;5;124;43m\"\u001b[39;49m\u001b[38;5;124;43mencoding_errors\u001b[39;49m\u001b[38;5;124;43m\"\u001b[39;49m\u001b[43m,\u001b[49m\u001b[43m \u001b[49m\u001b[38;5;124;43m\"\u001b[39;49m\u001b[38;5;124;43mstrict\u001b[39;49m\u001b[38;5;124;43m\"\u001b[39;49m\u001b[43m)\u001b[49m\u001b[43m,\u001b[49m\n\u001b[1;32m   1669\u001b[0m \u001b[43m    \u001b[49m\u001b[43mstorage_options\u001b[49m\u001b[38;5;241;43m=\u001b[39;49m\u001b[38;5;28;43mself\u001b[39;49m\u001b[38;5;241;43m.\u001b[39;49m\u001b[43moptions\u001b[49m\u001b[38;5;241;43m.\u001b[39;49m\u001b[43mget\u001b[49m\u001b[43m(\u001b[49m\u001b[38;5;124;43m\"\u001b[39;49m\u001b[38;5;124;43mstorage_options\u001b[39;49m\u001b[38;5;124;43m\"\u001b[39;49m\u001b[43m,\u001b[49m\u001b[43m \u001b[49m\u001b[38;5;28;43;01mNone\u001b[39;49;00m\u001b[43m)\u001b[49m\u001b[43m,\u001b[49m\n\u001b[1;32m   1670\u001b[0m \u001b[43m\u001b[49m\u001b[43m)\u001b[49m\n\u001b[1;32m   1671\u001b[0m \u001b[38;5;28;01massert\u001b[39;00m \u001b[38;5;28mself\u001b[39m\u001b[38;5;241m.\u001b[39mhandles \u001b[38;5;129;01mis\u001b[39;00m \u001b[38;5;129;01mnot\u001b[39;00m \u001b[38;5;28;01mNone\u001b[39;00m\n\u001b[1;32m   1672\u001b[0m f \u001b[38;5;241m=\u001b[39m \u001b[38;5;28mself\u001b[39m\u001b[38;5;241m.\u001b[39mhandles\u001b[38;5;241m.\u001b[39mhandle\n",
      "File \u001b[0;32m/Library/Frameworks/Python.framework/Versions/3.11/lib/python3.11/site-packages/pandas/io/common.py:859\u001b[0m, in \u001b[0;36mget_handle\u001b[0;34m(path_or_buf, mode, encoding, compression, memory_map, is_text, errors, storage_options)\u001b[0m\n\u001b[1;32m    854\u001b[0m \u001b[38;5;28;01melif\u001b[39;00m \u001b[38;5;28misinstance\u001b[39m(handle, \u001b[38;5;28mstr\u001b[39m):\n\u001b[1;32m    855\u001b[0m     \u001b[38;5;66;03m# Check whether the filename is to be opened in binary mode.\u001b[39;00m\n\u001b[1;32m    856\u001b[0m     \u001b[38;5;66;03m# Binary mode does not support 'encoding' and 'newline'.\u001b[39;00m\n\u001b[1;32m    857\u001b[0m     \u001b[38;5;28;01mif\u001b[39;00m ioargs\u001b[38;5;241m.\u001b[39mencoding \u001b[38;5;129;01mand\u001b[39;00m \u001b[38;5;124m\"\u001b[39m\u001b[38;5;124mb\u001b[39m\u001b[38;5;124m\"\u001b[39m \u001b[38;5;129;01mnot\u001b[39;00m \u001b[38;5;129;01min\u001b[39;00m ioargs\u001b[38;5;241m.\u001b[39mmode:\n\u001b[1;32m    858\u001b[0m         \u001b[38;5;66;03m# Encoding\u001b[39;00m\n\u001b[0;32m--> 859\u001b[0m         handle \u001b[38;5;241m=\u001b[39m \u001b[38;5;28;43mopen\u001b[39;49m\u001b[43m(\u001b[49m\n\u001b[1;32m    860\u001b[0m \u001b[43m            \u001b[49m\u001b[43mhandle\u001b[49m\u001b[43m,\u001b[49m\n\u001b[1;32m    861\u001b[0m \u001b[43m            \u001b[49m\u001b[43mioargs\u001b[49m\u001b[38;5;241;43m.\u001b[39;49m\u001b[43mmode\u001b[49m\u001b[43m,\u001b[49m\n\u001b[1;32m    862\u001b[0m \u001b[43m            \u001b[49m\u001b[43mencoding\u001b[49m\u001b[38;5;241;43m=\u001b[39;49m\u001b[43mioargs\u001b[49m\u001b[38;5;241;43m.\u001b[39;49m\u001b[43mencoding\u001b[49m\u001b[43m,\u001b[49m\n\u001b[1;32m    863\u001b[0m \u001b[43m            \u001b[49m\u001b[43merrors\u001b[49m\u001b[38;5;241;43m=\u001b[39;49m\u001b[43merrors\u001b[49m\u001b[43m,\u001b[49m\n\u001b[1;32m    864\u001b[0m \u001b[43m            \u001b[49m\u001b[43mnewline\u001b[49m\u001b[38;5;241;43m=\u001b[39;49m\u001b[38;5;124;43m\"\u001b[39;49m\u001b[38;5;124;43m\"\u001b[39;49m\u001b[43m,\u001b[49m\n\u001b[1;32m    865\u001b[0m \u001b[43m        \u001b[49m\u001b[43m)\u001b[49m\n\u001b[1;32m    866\u001b[0m     \u001b[38;5;28;01melse\u001b[39;00m:\n\u001b[1;32m    867\u001b[0m         \u001b[38;5;66;03m# Binary mode\u001b[39;00m\n\u001b[1;32m    868\u001b[0m         handle \u001b[38;5;241m=\u001b[39m \u001b[38;5;28mopen\u001b[39m(handle, ioargs\u001b[38;5;241m.\u001b[39mmode)\n",
      "\u001b[0;31mFileNotFoundError\u001b[0m: [Errno 2] No such file or directory: '/Users/francescoiaccarino/Desktop/Università/Jupyter notebook/Folders/train.csv'"
     ]
    }
   ],
   "source": [
    "train = pd.read_csv(\"/Users/francescoiaccarino/Desktop/Università/Jupyter notebook/Folders/train.csv\")\n",
    "test = pd.read_csv(\"/Users/francescoiaccarino/Desktop/Università/Jupyter notebook/Folders/test_updated.csv\")\n",
    "poi = pd.read_csv(\"/Users/francescoiaccarino/Desktop/Università/Jupyter notebook/Folders/poi.csv\", low_memory = False)"
   ]
  },
  {
   "cell_type": "markdown",
   "id": "f18bac53-8e5c-431a-9eec-85a3edc97ee6",
   "metadata": {
    "tags": []
   },
   "source": [
    "### Explanatory analysis"
   ]
  },
  {
   "cell_type": "code",
   "execution_count": 4,
   "id": "ded3d328-f5b3-40bc-940b-771e3cf37c87",
   "metadata": {
    "tags": []
   },
   "outputs": [
    {
     "data": {
      "text/html": [
       "<div>\n",
       "<style scoped>\n",
       "    .dataframe tbody tr th:only-of-type {\n",
       "        vertical-align: middle;\n",
       "    }\n",
       "\n",
       "    .dataframe tbody tr th {\n",
       "        vertical-align: top;\n",
       "    }\n",
       "\n",
       "    .dataframe thead th {\n",
       "        text-align: right;\n",
       "    }\n",
       "</style>\n",
       "<table border=\"1\" class=\"dataframe\">\n",
       "  <thead>\n",
       "    <tr style=\"text-align: right;\">\n",
       "      <th></th>\n",
       "      <th>id</th>\n",
       "      <th>price</th>\n",
       "      <th>balcony</th>\n",
       "      <th>conditions</th>\n",
       "      <th>construction_year</th>\n",
       "      <th>latitude</th>\n",
       "      <th>longitude</th>\n",
       "      <th>energy_efficiency</th>\n",
       "      <th>expenses</th>\n",
       "      <th>floor</th>\n",
       "      <th>garden</th>\n",
       "      <th>n_bathrooms</th>\n",
       "      <th>elevator</th>\n",
       "      <th>total_floors</th>\n",
       "      <th>n_rooms</th>\n",
       "      <th>proximity_to_center</th>\n",
       "      <th>surface</th>\n",
       "    </tr>\n",
       "  </thead>\n",
       "  <tbody>\n",
       "    <tr>\n",
       "      <th>0</th>\n",
       "      <td>10461</td>\n",
       "      <td>60000</td>\n",
       "      <td>True</td>\n",
       "      <td>Buono stato / Abitabile</td>\n",
       "      <td>1980.0</td>\n",
       "      <td>41.901300</td>\n",
       "      <td>12.700000</td>\n",
       "      <td>175.00</td>\n",
       "      <td>30.0</td>\n",
       "      <td>2.0</td>\n",
       "      <td>NaN</td>\n",
       "      <td>1.0</td>\n",
       "      <td>NaN</td>\n",
       "      <td>3.0</td>\n",
       "      <td>1.0</td>\n",
       "      <td>1.00000</td>\n",
       "      <td>35.0</td>\n",
       "    </tr>\n",
       "    <tr>\n",
       "      <th>1</th>\n",
       "      <td>51304</td>\n",
       "      <td>900000</td>\n",
       "      <td>NaN</td>\n",
       "      <td>Buono stato / Abitabile</td>\n",
       "      <td>NaN</td>\n",
       "      <td>41.907017</td>\n",
       "      <td>12.481311</td>\n",
       "      <td>NaN</td>\n",
       "      <td>NaN</td>\n",
       "      <td>3.0</td>\n",
       "      <td>NaN</td>\n",
       "      <td>1.0</td>\n",
       "      <td>1.0</td>\n",
       "      <td>NaN</td>\n",
       "      <td>3.0</td>\n",
       "      <td>1.00000</td>\n",
       "      <td>131.0</td>\n",
       "    </tr>\n",
       "    <tr>\n",
       "      <th>2</th>\n",
       "      <td>33032</td>\n",
       "      <td>33000</td>\n",
       "      <td>NaN</td>\n",
       "      <td>Buono stato / Abitabile</td>\n",
       "      <td>1960.0</td>\n",
       "      <td>41.976500</td>\n",
       "      <td>12.440500</td>\n",
       "      <td>204.20</td>\n",
       "      <td>30.0</td>\n",
       "      <td>4.0</td>\n",
       "      <td>NaN</td>\n",
       "      <td>1.0</td>\n",
       "      <td>NaN</td>\n",
       "      <td>4.0</td>\n",
       "      <td>1.0</td>\n",
       "      <td>1.00000</td>\n",
       "      <td>16.0</td>\n",
       "    </tr>\n",
       "    <tr>\n",
       "      <th>3</th>\n",
       "      <td>62281</td>\n",
       "      <td>166000</td>\n",
       "      <td>NaN</td>\n",
       "      <td>Ottimo / Ristrutturato</td>\n",
       "      <td>NaN</td>\n",
       "      <td>45.484800</td>\n",
       "      <td>12.198200</td>\n",
       "      <td>175.00</td>\n",
       "      <td>NaN</td>\n",
       "      <td>1.0</td>\n",
       "      <td>True</td>\n",
       "      <td>1.0</td>\n",
       "      <td>NaN</td>\n",
       "      <td>1.0</td>\n",
       "      <td>2.0</td>\n",
       "      <td>0.99205</td>\n",
       "      <td>100.0</td>\n",
       "    </tr>\n",
       "    <tr>\n",
       "      <th>4</th>\n",
       "      <td>45681</td>\n",
       "      <td>410000</td>\n",
       "      <td>True</td>\n",
       "      <td>Buono stato / Abitabile</td>\n",
       "      <td>NaN</td>\n",
       "      <td>45.424480</td>\n",
       "      <td>12.328622</td>\n",
       "      <td>65.91</td>\n",
       "      <td>NaN</td>\n",
       "      <td>3.0</td>\n",
       "      <td>NaN</td>\n",
       "      <td>2.0</td>\n",
       "      <td>1.0</td>\n",
       "      <td>NaN</td>\n",
       "      <td>3.0</td>\n",
       "      <td>1.00000</td>\n",
       "      <td>90.0</td>\n",
       "    </tr>\n",
       "  </tbody>\n",
       "</table>\n",
       "</div>"
      ],
      "text/plain": [
       "      id   price balcony               conditions  construction_year   \n",
       "0  10461   60000    True  Buono stato / Abitabile             1980.0  \\\n",
       "1  51304  900000     NaN  Buono stato / Abitabile                NaN   \n",
       "2  33032   33000     NaN  Buono stato / Abitabile             1960.0   \n",
       "3  62281  166000     NaN   Ottimo / Ristrutturato                NaN   \n",
       "4  45681  410000    True  Buono stato / Abitabile                NaN   \n",
       "\n",
       "    latitude  longitude  energy_efficiency  expenses  floor garden   \n",
       "0  41.901300  12.700000             175.00      30.0    2.0    NaN  \\\n",
       "1  41.907017  12.481311                NaN       NaN    3.0    NaN   \n",
       "2  41.976500  12.440500             204.20      30.0    4.0    NaN   \n",
       "3  45.484800  12.198200             175.00       NaN    1.0   True   \n",
       "4  45.424480  12.328622              65.91       NaN    3.0    NaN   \n",
       "\n",
       "   n_bathrooms  elevator  total_floors  n_rooms  proximity_to_center  surface  \n",
       "0          1.0       NaN           3.0      1.0              1.00000     35.0  \n",
       "1          1.0       1.0           NaN      3.0              1.00000    131.0  \n",
       "2          1.0       NaN           4.0      1.0              1.00000     16.0  \n",
       "3          1.0       NaN           1.0      2.0              0.99205    100.0  \n",
       "4          2.0       1.0           NaN      3.0              1.00000     90.0  "
      ]
     },
     "execution_count": 4,
     "metadata": {},
     "output_type": "execute_result"
    }
   ],
   "source": [
    "train.head()"
   ]
  },
  {
   "cell_type": "code",
   "execution_count": 5,
   "id": "bf54c118-4295-4a89-bf56-ec6723e8fe72",
   "metadata": {
    "tags": []
   },
   "outputs": [
    {
     "name": "stdout",
     "output_type": "stream",
     "text": [
      "<class 'pandas.core.frame.DataFrame'>\n",
      "RangeIndex: 46312 entries, 0 to 46311\n",
      "Data columns (total 17 columns):\n",
      " #   Column               Non-Null Count  Dtype  \n",
      "---  ------               --------------  -----  \n",
      " 0   id                   46312 non-null  int64  \n",
      " 1   price                46312 non-null  int64  \n",
      " 2   balcony              30869 non-null  object \n",
      " 3   conditions           45083 non-null  object \n",
      " 4   construction_year    32366 non-null  float64\n",
      " 5   latitude             46299 non-null  float64\n",
      " 6   longitude            46299 non-null  float64\n",
      " 7   energy_efficiency    26409 non-null  float64\n",
      " 8   expenses             30158 non-null  float64\n",
      " 9   floor                44281 non-null  float64\n",
      " 10  garden               14783 non-null  object \n",
      " 11  n_bathrooms          43896 non-null  float64\n",
      " 12  elevator             28869 non-null  float64\n",
      " 13  total_floors         27963 non-null  float64\n",
      " 14  n_rooms              45959 non-null  float64\n",
      " 15  proximity_to_center  46299 non-null  float64\n",
      " 16  surface              45869 non-null  float64\n",
      "dtypes: float64(12), int64(2), object(3)\n",
      "memory usage: 6.0+ MB\n"
     ]
    }
   ],
   "source": [
    "train.info()"
   ]
  },
  {
   "cell_type": "code",
   "execution_count": 6,
   "id": "de2210b3-350e-4e94-868e-3a8ce76c06b2",
   "metadata": {
    "tags": []
   },
   "outputs": [
    {
     "data": {
      "text/html": [
       "<div>\n",
       "<style scoped>\n",
       "    .dataframe tbody tr th:only-of-type {\n",
       "        vertical-align: middle;\n",
       "    }\n",
       "\n",
       "    .dataframe tbody tr th {\n",
       "        vertical-align: top;\n",
       "    }\n",
       "\n",
       "    .dataframe thead th {\n",
       "        text-align: right;\n",
       "    }\n",
       "</style>\n",
       "<table border=\"1\" class=\"dataframe\">\n",
       "  <thead>\n",
       "    <tr style=\"text-align: right;\">\n",
       "      <th></th>\n",
       "      <th>id</th>\n",
       "      <th>price</th>\n",
       "      <th>construction_year</th>\n",
       "      <th>latitude</th>\n",
       "      <th>longitude</th>\n",
       "      <th>energy_efficiency</th>\n",
       "      <th>expenses</th>\n",
       "      <th>floor</th>\n",
       "      <th>n_bathrooms</th>\n",
       "      <th>elevator</th>\n",
       "      <th>total_floors</th>\n",
       "      <th>n_rooms</th>\n",
       "      <th>proximity_to_center</th>\n",
       "      <th>surface</th>\n",
       "    </tr>\n",
       "  </thead>\n",
       "  <tbody>\n",
       "    <tr>\n",
       "      <th>count</th>\n",
       "      <td>46312.000000</td>\n",
       "      <td>4.631200e+04</td>\n",
       "      <td>32366.000000</td>\n",
       "      <td>46299.000000</td>\n",
       "      <td>46299.000000</td>\n",
       "      <td>2.640900e+04</td>\n",
       "      <td>30158.000000</td>\n",
       "      <td>44281.000000</td>\n",
       "      <td>43896.000000</td>\n",
       "      <td>28869.000000</td>\n",
       "      <td>27963.000000</td>\n",
       "      <td>45959.000000</td>\n",
       "      <td>46299.000000</td>\n",
       "      <td>45869.000000</td>\n",
       "    </tr>\n",
       "    <tr>\n",
       "      <th>mean</th>\n",
       "      <td>32960.756132</td>\n",
       "      <td>5.031879e+05</td>\n",
       "      <td>1958.032874</td>\n",
       "      <td>43.534743</td>\n",
       "      <td>11.451295</td>\n",
       "      <td>5.091382e+03</td>\n",
       "      <td>195.285132</td>\n",
       "      <td>2.033333</td>\n",
       "      <td>1.559140</td>\n",
       "      <td>0.952510</td>\n",
       "      <td>5.724207</td>\n",
       "      <td>3.284166</td>\n",
       "      <td>0.994756</td>\n",
       "      <td>114.866620</td>\n",
       "    </tr>\n",
       "    <tr>\n",
       "      <th>std</th>\n",
       "      <td>19090.178152</td>\n",
       "      <td>1.106504e+06</td>\n",
       "      <td>72.021035</td>\n",
       "      <td>1.789416</td>\n",
       "      <td>1.502453</td>\n",
       "      <td>7.600521e+05</td>\n",
       "      <td>4035.008418</td>\n",
       "      <td>2.175668</td>\n",
       "      <td>0.769869</td>\n",
       "      <td>0.212689</td>\n",
       "      <td>191.115233</td>\n",
       "      <td>1.329654</td>\n",
       "      <td>0.030093</td>\n",
       "      <td>88.650549</td>\n",
       "    </tr>\n",
       "    <tr>\n",
       "      <th>min</th>\n",
       "      <td>0.000000</td>\n",
       "      <td>1.540000e+02</td>\n",
       "      <td>1000.000000</td>\n",
       "      <td>41.690300</td>\n",
       "      <td>9.060775</td>\n",
       "      <td>1.000000e-02</td>\n",
       "      <td>0.000000</td>\n",
       "      <td>-5.000000</td>\n",
       "      <td>1.000000</td>\n",
       "      <td>0.000000</td>\n",
       "      <td>1.000000</td>\n",
       "      <td>1.000000</td>\n",
       "      <td>0.588014</td>\n",
       "      <td>0.000000</td>\n",
       "    </tr>\n",
       "    <tr>\n",
       "      <th>25%</th>\n",
       "      <td>16466.500000</td>\n",
       "      <td>1.990000e+05</td>\n",
       "      <td>1950.000000</td>\n",
       "      <td>41.882400</td>\n",
       "      <td>9.221300</td>\n",
       "      <td>1.590000e+02</td>\n",
       "      <td>40.000000</td>\n",
       "      <td>1.000000</td>\n",
       "      <td>1.000000</td>\n",
       "      <td>1.000000</td>\n",
       "      <td>3.000000</td>\n",
       "      <td>2.000000</td>\n",
       "      <td>1.000000</td>\n",
       "      <td>68.000000</td>\n",
       "    </tr>\n",
       "    <tr>\n",
       "      <th>50%</th>\n",
       "      <td>32906.500000</td>\n",
       "      <td>3.150000e+05</td>\n",
       "      <td>1967.000000</td>\n",
       "      <td>41.960604</td>\n",
       "      <td>12.361864</td>\n",
       "      <td>1.750000e+02</td>\n",
       "      <td>80.000000</td>\n",
       "      <td>2.000000</td>\n",
       "      <td>1.000000</td>\n",
       "      <td>1.000000</td>\n",
       "      <td>4.000000</td>\n",
       "      <td>3.000000</td>\n",
       "      <td>1.000000</td>\n",
       "      <td>91.000000</td>\n",
       "    </tr>\n",
       "    <tr>\n",
       "      <th>75%</th>\n",
       "      <td>49489.250000</td>\n",
       "      <td>5.150000e+05</td>\n",
       "      <td>1987.000000</td>\n",
       "      <td>45.465800</td>\n",
       "      <td>12.487604</td>\n",
       "      <td>1.750000e+02</td>\n",
       "      <td>150.000000</td>\n",
       "      <td>3.000000</td>\n",
       "      <td>2.000000</td>\n",
       "      <td>1.000000</td>\n",
       "      <td>6.000000</td>\n",
       "      <td>4.000000</td>\n",
       "      <td>1.000000</td>\n",
       "      <td>130.000000</td>\n",
       "    </tr>\n",
       "    <tr>\n",
       "      <th>max</th>\n",
       "      <td>66159.000000</td>\n",
       "      <td>7.200000e+07</td>\n",
       "      <td>2500.000000</td>\n",
       "      <td>45.561298</td>\n",
       "      <td>12.854100</td>\n",
       "      <td>1.234570e+08</td>\n",
       "      <td>346000.000000</td>\n",
       "      <td>56.000000</td>\n",
       "      <td>9.000000</td>\n",
       "      <td>1.000000</td>\n",
       "      <td>31960.000000</td>\n",
       "      <td>9.000000</td>\n",
       "      <td>1.000000</td>\n",
       "      <td>990.000000</td>\n",
       "    </tr>\n",
       "  </tbody>\n",
       "</table>\n",
       "</div>"
      ],
      "text/plain": [
       "                 id         price  construction_year      latitude   \n",
       "count  46312.000000  4.631200e+04       32366.000000  46299.000000  \\\n",
       "mean   32960.756132  5.031879e+05        1958.032874     43.534743   \n",
       "std    19090.178152  1.106504e+06          72.021035      1.789416   \n",
       "min        0.000000  1.540000e+02        1000.000000     41.690300   \n",
       "25%    16466.500000  1.990000e+05        1950.000000     41.882400   \n",
       "50%    32906.500000  3.150000e+05        1967.000000     41.960604   \n",
       "75%    49489.250000  5.150000e+05        1987.000000     45.465800   \n",
       "max    66159.000000  7.200000e+07        2500.000000     45.561298   \n",
       "\n",
       "          longitude  energy_efficiency       expenses         floor   \n",
       "count  46299.000000       2.640900e+04   30158.000000  44281.000000  \\\n",
       "mean      11.451295       5.091382e+03     195.285132      2.033333   \n",
       "std        1.502453       7.600521e+05    4035.008418      2.175668   \n",
       "min        9.060775       1.000000e-02       0.000000     -5.000000   \n",
       "25%        9.221300       1.590000e+02      40.000000      1.000000   \n",
       "50%       12.361864       1.750000e+02      80.000000      2.000000   \n",
       "75%       12.487604       1.750000e+02     150.000000      3.000000   \n",
       "max       12.854100       1.234570e+08  346000.000000     56.000000   \n",
       "\n",
       "        n_bathrooms      elevator  total_floors       n_rooms   \n",
       "count  43896.000000  28869.000000  27963.000000  45959.000000  \\\n",
       "mean       1.559140      0.952510      5.724207      3.284166   \n",
       "std        0.769869      0.212689    191.115233      1.329654   \n",
       "min        1.000000      0.000000      1.000000      1.000000   \n",
       "25%        1.000000      1.000000      3.000000      2.000000   \n",
       "50%        1.000000      1.000000      4.000000      3.000000   \n",
       "75%        2.000000      1.000000      6.000000      4.000000   \n",
       "max        9.000000      1.000000  31960.000000      9.000000   \n",
       "\n",
       "       proximity_to_center       surface  \n",
       "count         46299.000000  45869.000000  \n",
       "mean              0.994756    114.866620  \n",
       "std               0.030093     88.650549  \n",
       "min               0.588014      0.000000  \n",
       "25%               1.000000     68.000000  \n",
       "50%               1.000000     91.000000  \n",
       "75%               1.000000    130.000000  \n",
       "max               1.000000    990.000000  "
      ]
     },
     "execution_count": 6,
     "metadata": {},
     "output_type": "execute_result"
    }
   ],
   "source": [
    "train.describe()"
   ]
  },
  {
   "cell_type": "code",
   "execution_count": 7,
   "id": "f8a31cab-8f4b-4216-a7e2-42d7d0490aeb",
   "metadata": {
    "tags": []
   },
   "outputs": [
    {
     "data": {
      "text/html": [
       "<div>\n",
       "<style scoped>\n",
       "    .dataframe tbody tr th:only-of-type {\n",
       "        vertical-align: middle;\n",
       "    }\n",
       "\n",
       "    .dataframe tbody tr th {\n",
       "        vertical-align: top;\n",
       "    }\n",
       "\n",
       "    .dataframe thead th {\n",
       "        text-align: right;\n",
       "    }\n",
       "</style>\n",
       "<table border=\"1\" class=\"dataframe\">\n",
       "  <thead>\n",
       "    <tr style=\"text-align: right;\">\n",
       "      <th></th>\n",
       "      <th>count</th>\n",
       "      <th>percentage</th>\n",
       "    </tr>\n",
       "  </thead>\n",
       "  <tbody>\n",
       "    <tr>\n",
       "      <th>id</th>\n",
       "      <td>0</td>\n",
       "      <td>0.000000</td>\n",
       "    </tr>\n",
       "    <tr>\n",
       "      <th>price</th>\n",
       "      <td>0</td>\n",
       "      <td>0.000000</td>\n",
       "    </tr>\n",
       "    <tr>\n",
       "      <th>proximity_to_center</th>\n",
       "      <td>13</td>\n",
       "      <td>0.000281</td>\n",
       "    </tr>\n",
       "    <tr>\n",
       "      <th>longitude</th>\n",
       "      <td>13</td>\n",
       "      <td>0.000281</td>\n",
       "    </tr>\n",
       "    <tr>\n",
       "      <th>latitude</th>\n",
       "      <td>13</td>\n",
       "      <td>0.000281</td>\n",
       "    </tr>\n",
       "    <tr>\n",
       "      <th>n_rooms</th>\n",
       "      <td>353</td>\n",
       "      <td>0.007622</td>\n",
       "    </tr>\n",
       "    <tr>\n",
       "      <th>surface</th>\n",
       "      <td>443</td>\n",
       "      <td>0.009566</td>\n",
       "    </tr>\n",
       "    <tr>\n",
       "      <th>conditions</th>\n",
       "      <td>1229</td>\n",
       "      <td>0.026537</td>\n",
       "    </tr>\n",
       "    <tr>\n",
       "      <th>floor</th>\n",
       "      <td>2031</td>\n",
       "      <td>0.043855</td>\n",
       "    </tr>\n",
       "    <tr>\n",
       "      <th>n_bathrooms</th>\n",
       "      <td>2416</td>\n",
       "      <td>0.052168</td>\n",
       "    </tr>\n",
       "    <tr>\n",
       "      <th>construction_year</th>\n",
       "      <td>13946</td>\n",
       "      <td>0.301131</td>\n",
       "    </tr>\n",
       "    <tr>\n",
       "      <th>balcony</th>\n",
       "      <td>15443</td>\n",
       "      <td>0.333456</td>\n",
       "    </tr>\n",
       "    <tr>\n",
       "      <th>expenses</th>\n",
       "      <td>16154</td>\n",
       "      <td>0.348808</td>\n",
       "    </tr>\n",
       "    <tr>\n",
       "      <th>elevator</th>\n",
       "      <td>17443</td>\n",
       "      <td>0.376641</td>\n",
       "    </tr>\n",
       "    <tr>\n",
       "      <th>total_floors</th>\n",
       "      <td>18349</td>\n",
       "      <td>0.396204</td>\n",
       "    </tr>\n",
       "    <tr>\n",
       "      <th>energy_efficiency</th>\n",
       "      <td>19903</td>\n",
       "      <td>0.429759</td>\n",
       "    </tr>\n",
       "    <tr>\n",
       "      <th>garden</th>\n",
       "      <td>31529</td>\n",
       "      <td>0.680795</td>\n",
       "    </tr>\n",
       "  </tbody>\n",
       "</table>\n",
       "</div>"
      ],
      "text/plain": [
       "                     count  percentage\n",
       "id                       0    0.000000\n",
       "price                    0    0.000000\n",
       "proximity_to_center     13    0.000281\n",
       "longitude               13    0.000281\n",
       "latitude                13    0.000281\n",
       "n_rooms                353    0.007622\n",
       "surface                443    0.009566\n",
       "conditions            1229    0.026537\n",
       "floor                 2031    0.043855\n",
       "n_bathrooms           2416    0.052168\n",
       "construction_year    13946    0.301131\n",
       "balcony              15443    0.333456\n",
       "expenses             16154    0.348808\n",
       "elevator             17443    0.376641\n",
       "total_floors         18349    0.396204\n",
       "energy_efficiency    19903    0.429759\n",
       "garden               31529    0.680795"
      ]
     },
     "execution_count": 7,
     "metadata": {},
     "output_type": "execute_result"
    }
   ],
   "source": [
    "count = train.isnull().sum().sort_values(ascending = True)\n",
    "percentage = train.isnull().mean().sort_values(ascending = True)\n",
    "missing_data = pd.concat([count, percentage], axis = 1, keys = ['count', 'percentage'])\n",
    "missing_data"
   ]
  },
  {
   "cell_type": "code",
   "execution_count": 8,
   "id": "169d3d9f-d13e-45ce-998f-f1e708080e16",
   "metadata": {
    "tags": []
   },
   "outputs": [
    {
     "data": {
      "text/html": [
       "<div>\n",
       "<style scoped>\n",
       "    .dataframe tbody tr th:only-of-type {\n",
       "        vertical-align: middle;\n",
       "    }\n",
       "\n",
       "    .dataframe tbody tr th {\n",
       "        vertical-align: top;\n",
       "    }\n",
       "\n",
       "    .dataframe thead th {\n",
       "        text-align: right;\n",
       "    }\n",
       "</style>\n",
       "<table border=\"1\" class=\"dataframe\">\n",
       "  <thead>\n",
       "    <tr style=\"text-align: right;\">\n",
       "      <th></th>\n",
       "      <th>count</th>\n",
       "      <th>percentage</th>\n",
       "    </tr>\n",
       "  </thead>\n",
       "  <tbody>\n",
       "    <tr>\n",
       "      <th>id</th>\n",
       "      <td>0</td>\n",
       "      <td>0.000000</td>\n",
       "    </tr>\n",
       "    <tr>\n",
       "      <th>price</th>\n",
       "      <td>0</td>\n",
       "      <td>0.000000</td>\n",
       "    </tr>\n",
       "    <tr>\n",
       "      <th>proximity_to_center</th>\n",
       "      <td>13</td>\n",
       "      <td>0.000281</td>\n",
       "    </tr>\n",
       "    <tr>\n",
       "      <th>longitude</th>\n",
       "      <td>13</td>\n",
       "      <td>0.000281</td>\n",
       "    </tr>\n",
       "    <tr>\n",
       "      <th>latitude</th>\n",
       "      <td>13</td>\n",
       "      <td>0.000281</td>\n",
       "    </tr>\n",
       "    <tr>\n",
       "      <th>n_rooms</th>\n",
       "      <td>353</td>\n",
       "      <td>0.007622</td>\n",
       "    </tr>\n",
       "    <tr>\n",
       "      <th>surface</th>\n",
       "      <td>443</td>\n",
       "      <td>0.009566</td>\n",
       "    </tr>\n",
       "    <tr>\n",
       "      <th>conditions</th>\n",
       "      <td>1229</td>\n",
       "      <td>0.026537</td>\n",
       "    </tr>\n",
       "    <tr>\n",
       "      <th>floor</th>\n",
       "      <td>2031</td>\n",
       "      <td>0.043855</td>\n",
       "    </tr>\n",
       "    <tr>\n",
       "      <th>n_bathrooms</th>\n",
       "      <td>2416</td>\n",
       "      <td>0.052168</td>\n",
       "    </tr>\n",
       "    <tr>\n",
       "      <th>construction_year</th>\n",
       "      <td>13946</td>\n",
       "      <td>0.301131</td>\n",
       "    </tr>\n",
       "    <tr>\n",
       "      <th>balcony</th>\n",
       "      <td>15443</td>\n",
       "      <td>0.333456</td>\n",
       "    </tr>\n",
       "    <tr>\n",
       "      <th>expenses</th>\n",
       "      <td>16154</td>\n",
       "      <td>0.348808</td>\n",
       "    </tr>\n",
       "    <tr>\n",
       "      <th>elevator</th>\n",
       "      <td>17443</td>\n",
       "      <td>0.376641</td>\n",
       "    </tr>\n",
       "    <tr>\n",
       "      <th>total_floors</th>\n",
       "      <td>18349</td>\n",
       "      <td>0.396204</td>\n",
       "    </tr>\n",
       "    <tr>\n",
       "      <th>energy_efficiency</th>\n",
       "      <td>19903</td>\n",
       "      <td>0.429759</td>\n",
       "    </tr>\n",
       "    <tr>\n",
       "      <th>garden</th>\n",
       "      <td>31529</td>\n",
       "      <td>0.680795</td>\n",
       "    </tr>\n",
       "  </tbody>\n",
       "</table>\n",
       "</div>"
      ],
      "text/plain": [
       "                     count  percentage\n",
       "id                       0    0.000000\n",
       "price                    0    0.000000\n",
       "proximity_to_center     13    0.000281\n",
       "longitude               13    0.000281\n",
       "latitude                13    0.000281\n",
       "n_rooms                353    0.007622\n",
       "surface                443    0.009566\n",
       "conditions            1229    0.026537\n",
       "floor                 2031    0.043855\n",
       "n_bathrooms           2416    0.052168\n",
       "construction_year    13946    0.301131\n",
       "balcony              15443    0.333456\n",
       "expenses             16154    0.348808\n",
       "elevator             17443    0.376641\n",
       "total_floors         18349    0.396204\n",
       "energy_efficiency    19903    0.429759\n",
       "garden               31529    0.680795"
      ]
     },
     "execution_count": 8,
     "metadata": {},
     "output_type": "execute_result"
    }
   ],
   "source": [
    "count2 = test.isnull().sum().sort_values(ascending = True)\n",
    "percentage2 = (test.isnull().mean().sort_values(ascending = True))\n",
    "missing_data2 = pd.concat([count, percentage], axis = 1, keys = ['count', 'percentage'])\n",
    "missing_data2"
   ]
  },
  {
   "cell_type": "markdown",
   "id": "9205f0fd-16a3-4211-b543-a6073ba812f0",
   "metadata": {
    "tags": []
   },
   "source": [
    "### Definition of the functions that will perform some data cleaning "
   ]
  },
  {
   "cell_type": "markdown",
   "id": "7b92e4f0-8933-408d-adfe-d952ffa7edd5",
   "metadata": {
    "tags": []
   },
   "source": [
    " #### Now I am going to drop the values having a percentage of missing values > 60% and the id feature"
   ]
  },
  {
   "cell_type": "code",
   "execution_count": 9,
   "id": "04ebf263-890f-4f0e-89f5-b0ae88012442",
   "metadata": {
    "tags": []
   },
   "outputs": [],
   "source": [
    "id_train, id_test = train.id, test.id\n",
    "\n",
    "def traintest_drop(df):\n",
    "    df.drop(missing_data[missing_data['percentage'] > 0.60].index, axis = 1, inplace = True)\n",
    "    df.drop(['id'], axis = 1, inplace = True)\n",
    "    return df"
   ]
  },
  {
   "cell_type": "markdown",
   "id": "8378dc5e-4005-447d-be3e-f336bc977f56",
   "metadata": {},
   "source": [
    "#### I am defining the functions that will perform null imputation through linear regressions, mode and median"
   ]
  },
  {
   "cell_type": "code",
   "execution_count": 10,
   "id": "8671e354-cb38-4ec9-aa64-db12e6f966c6",
   "metadata": {
    "tags": []
   },
   "outputs": [],
   "source": [
    "def linear_regression(df, target, predictor1, predictor2 = None, predictor3 = None):\n",
    "    train_ = df.dropna(subset = [target])\n",
    "    test_ = df[df[target].isnull()].copy()\n",
    "    \n",
    "    LinearRegr = LinearRegression()\n",
    "    if (predictor2 == None and predictor3 == None):\n",
    "        LinearRegr.fit(train_[[predictor1]], train_[target])\n",
    "        prediction = LinearRegr.predict(test_[[predictor1]])\n",
    "    elif predictor3 == None:\n",
    "        LinearRegr.fit(train_[[predictor1, predictor2]], train_[target])\n",
    "        prediction = LinearRegr.predict(test_[[predictor1, predictor2]])\n",
    "    else:\n",
    "        LinearRegr.fit(train_[[predictor1, predictor2, predictor3]], train_[target])\n",
    "        prediction = LinearRegr.predict(test_[[predictor1, predictor2, predictor3]])\n",
    "        \n",
    "    index = df[target].isnull()\n",
    "    df.loc[index, target] = prediction\n",
    "    \n",
    "    return df"
   ]
  },
  {
   "cell_type": "code",
   "execution_count": 11,
   "id": "0c95d0ea-9c49-4847-98ec-5a46a0da6a15",
   "metadata": {
    "tags": []
   },
   "outputs": [],
   "source": [
    "def traintest_subs(df):\n",
    "    cols_median = ['latitude', 'longitude', 'expenses', 'floor', 'energy_efficiency', 'n_rooms', 'surface']\n",
    "    cols_mode = ['construction_year', 'proximity_to_center', 'balcony', 'elevator']\n",
    "    \n",
    "    df[cols_median] = df[cols_median].fillna(df[cols_median].median())\n",
    "    df[cols_mode] = df[cols_mode].fillna(df[cols_mode].mode().iloc[0])\n",
    "    \n",
    "    return df"
   ]
  },
  {
   "cell_type": "markdown",
   "id": "4e593687-7382-44d6-9bc2-048df4db0a48",
   "metadata": {},
   "source": [
    "#### I am defining the functions that will perform standardization "
   ]
  },
  {
   "cell_type": "code",
   "execution_count": 12,
   "id": "e5ff85ff-869d-4b95-87a4-ee37518abc02",
   "metadata": {
    "tags": []
   },
   "outputs": [],
   "source": [
    "def traintest_standardize(df):\n",
    "    \n",
    "    numeric_cols = ['energy_efficiency', 'expenses', 'surface']\n",
    "    scaler = StandardScaler()\n",
    "    df[numeric_cols] = scaler.fit_transform(df[numeric_cols])\n",
    "    \n",
    "    return df"
   ]
  },
  {
   "cell_type": "markdown",
   "id": "03c3a147-fe40-4b39-9950-c0e88025a2d9",
   "metadata": {},
   "source": [
    "#### Now I am going to substitute the categorical variable conditions as a dummy variable, divided in cols  "
   ]
  },
  {
   "cell_type": "code",
   "execution_count": 13,
   "id": "dee92172-3509-47a1-b324-4fe5f2688322",
   "metadata": {
    "tags": []
   },
   "outputs": [],
   "source": [
    "def traintestdum(df):\n",
    "    dum = pd.get_dummies(df.conditions, dtype = int)\n",
    "    df = df.join(dum)\n",
    "    df.drop('conditions', axis = 1, inplace = True)\n",
    "    return df"
   ]
  },
  {
   "cell_type": "markdown",
   "id": "69c24938-582a-46f4-b964-386d9854a207",
   "metadata": {},
   "source": [
    "### Running the modifications on the dataframe "
   ]
  },
  {
   "cell_type": "code",
   "execution_count": 14,
   "id": "e3c14cd1-6cef-467f-b8a5-ef2b6182fb14",
   "metadata": {
    "tags": []
   },
   "outputs": [],
   "source": [
    "train = traintest_drop(train)\n",
    "train = traintest_subs(train)\n",
    "train = linear_regression(train, 'n_bathrooms', 'surface', 'n_rooms')\n",
    "train = linear_regression(train, 'total_floors', 'floor')\n",
    "train = traintestdum(train)"
   ]
  },
  {
   "cell_type": "code",
   "execution_count": 15,
   "id": "3e9af99f-2371-4c73-92c5-c2374ebb8d48",
   "metadata": {
    "tags": []
   },
   "outputs": [],
   "source": [
    "# train = traintest_standardize(train)"
   ]
  },
  {
   "cell_type": "code",
   "execution_count": 16,
   "id": "fd0aa7df-99a9-46b0-94a0-300be9acd0b7",
   "metadata": {
    "tags": []
   },
   "outputs": [],
   "source": [
    "test = traintest_drop(test)\n",
    "test = traintest_subs(test)\n",
    "test = linear_regression(test, 'n_bathrooms', 'surface', 'n_rooms')\n",
    "test = linear_regression(test, 'total_floors', 'floor')\n",
    "test = traintestdum(test)"
   ]
  },
  {
   "cell_type": "code",
   "execution_count": 17,
   "id": "aeb8bf73-ec77-4fc6-a937-f6da6fd5c417",
   "metadata": {
    "tags": []
   },
   "outputs": [],
   "source": [
    "# test = traintest_standardize(test)"
   ]
  },
  {
   "cell_type": "code",
   "execution_count": 18,
   "id": "eb29f6bc-0638-488f-8c82-3c065d7ad4dd",
   "metadata": {},
   "outputs": [],
   "source": [
    "correlations1 = train.corr()['price'].sort_values(ascending=False)\n",
    "correlations2 = train.corr()['floor'].sort_values(ascending=False)\n",
    "correlations3 = train.corr()['n_bathrooms'].sort_values(ascending=False)"
   ]
  },
  {
   "cell_type": "markdown",
   "id": "e78419e1-d4d6-41de-a229-da2b722f6e2f",
   "metadata": {},
   "source": [
    "### Feature engineering "
   ]
  },
  {
   "cell_type": "markdown",
   "id": "5350415a-c9c8-46ab-a866-d307dc5ef965",
   "metadata": {
    "tags": []
   },
   "source": [
    "#### I am going to create a feature called comfortability "
   ]
  },
  {
   "cell_type": "code",
   "execution_count": 19,
   "id": "61c20c18-b88e-44bd-bce6-35a612698bef",
   "metadata": {
    "tags": []
   },
   "outputs": [],
   "source": [
    "train['comfortability'] = ((train['floor'] > 3) & (train['elevator'] == 1)).astype(np.float64)\n",
    "test['comfortability'] = ((test['floor'] > 3) & (test['elevator'] == 1)).astype(np.float64)"
   ]
  },
  {
   "cell_type": "code",
   "execution_count": 20,
   "id": "cc61835d-2b19-4d23-8105-82d8679e880a",
   "metadata": {
    "tags": []
   },
   "outputs": [],
   "source": [
    "train['bathroom_per_room'] = train['n_bathrooms'] / train['n_rooms']\n",
    "test['bathroom_per_room'] = test['n_bathrooms'] / test['n_rooms']"
   ]
  },
  {
   "cell_type": "code",
   "execution_count": 21,
   "id": "888308ec-8466-45d4-ba1f-1c63e3c1672f",
   "metadata": {
    "tags": []
   },
   "outputs": [
    {
     "data": {
      "image/png": "[encoded data removed]",
      "text/plain": [
       "<Figure size 1500x500 with 1 Axes>"
      ]
     },
     "metadata": {},
     "output_type": "display_data"
    }
   ],
   "source": [
    "plt.figure(figsize = (15, 5))\n",
    "sns.scatterplot(x = \"latitude\", y = \"longitude\", data = train, hue = 'price', palette = \"coolwarm\");"
   ]
  },
  {
   "cell_type": "code",
   "execution_count": 22,
   "id": "582730c5-9064-4aa8-97ad-a66b9c948817",
   "metadata": {
    "tags": []
   },
   "outputs": [
    {
     "name": "stderr",
     "output_type": "stream",
     "text": [
      "/Library/Frameworks/Python.framework/Versions/3.11/lib/python3.11/site-packages/sklearn/cluster/_kmeans.py:870: FutureWarning: The default value of `n_init` will change from 10 to 'auto' in 1.4. Set the value of `n_init` explicitly to suppress the warning\n",
      "  warnings.warn(\n",
      "/Library/Frameworks/Python.framework/Versions/3.11/lib/python3.11/site-packages/sklearn/cluster/_kmeans.py:870: FutureWarning: The default value of `n_init` will change from 10 to 'auto' in 1.4. Set the value of `n_init` explicitly to suppress the warning\n",
      "  warnings.warn(\n"
     ]
    }
   ],
   "source": [
    "train_location_data = train[['latitude', 'longitude']]\n",
    "kmeans = KMeans(n_clusters=3, random_state=0).fit(train_location_data)\n",
    "train['desirability'] = kmeans.predict(train[['latitude', 'longitude']])\n",
    "\n",
    "test_location_data = test[['latitude', 'longitude']]\n",
    "kmeans = KMeans(n_clusters=3, random_state=0).fit(test_location_data)\n",
    "test['desirability'] = kmeans.predict(test[['latitude', 'longitude']])"
   ]
  },
  {
   "cell_type": "code",
   "execution_count": 23,
   "id": "2ff70670-32df-4ac6-b9ec-d13ae8111e8e",
   "metadata": {
    "tags": []
   },
   "outputs": [],
   "source": [
    "milan_lat, milan_lon = 45.4642, 9.1900\n",
    "venice_lat, venice_lon = 45.4408, 12.3155\n",
    "rome_lat, rome_lon = 41.9028, 12.4964\n",
    "\n",
    "def which_city(lat, lon, city_lat, city_lon, tol):\n",
    "    return abs(lat - city_lat) < tol and abs(lon - city_lon) < tol\n",
    "\n",
    "def MilRomVen(df):\n",
    "    tol = 0.36\n",
    "    \n",
    "    df['Milan'] = df.apply(lambda x: 1 if which_city(x['latitude'], x['longitude'], milan_lat, milan_lon, tol) else 0, axis=1)\n",
    "    df['Venice'] = df.apply(lambda x: 1 if which_city(x['latitude'], x['longitude'], venice_lat, venice_lon, tol) else 0, axis=1)\n",
    "    df['Rome'] = df.apply(lambda x: 1 if which_city(x['latitude'], x['longitude'], rome_lat, rome_lon, tol) else 0, axis=1)\n",
    "\n",
    "    df.drop(['latitude', 'longitude'], axis=1, inplace=True)\n",
    "    return df"
   ]
  },
  {
   "cell_type": "markdown",
   "id": "23e1ba7c-8e6a-488d-99e4-dc10f84268ec",
   "metadata": {
    "tags": []
   },
   "source": [
    "### Data visualization"
   ]
  },
  {
   "cell_type": "code",
   "execution_count": 23,
   "id": "8fe5685f-3ab9-4df7-a1a3-e2bdcaf020e3",
   "metadata": {
    "tags": []
   },
   "outputs": [
    {
     "data": {
      "image/png": "[encoded data removed]",
      "text/plain": [
       "<Figure size 1200x1000 with 2 Axes>"
      ]
     },
     "metadata": {},
     "output_type": "display_data"
    }
   ],
   "source": [
    "correlation_matrix = train.corr().iloc[:14, :14]\n",
    "f, ax = plt.subplots(figsize=(12, 10))\n",
    "sns.heatmap(correlation_matrix, annot = True, cmap = \"YlGnBu\");"
   ]
  },
  {
   "cell_type": "markdown",
   "id": "02251321-c600-4cc4-8175-846f31dcfabc",
   "metadata": {
    "tags": []
   },
   "source": [
    "#### Checking for outliers - scatterplots"
   ]
  },
  {
   "cell_type": "code",
   "execution_count": 30,
   "id": "e1225817-53dc-4f1e-ba37-06f1a1f839c2",
   "metadata": {
    "tags": []
   },
   "outputs": [
    {
     "data": {
      "image/png": "[encoded data removed]",
      "text/plain": [
       "<Figure size 640x480 with 1 Axes>"
      ]
     },
     "metadata": {},
     "output_type": "display_data"
    }
   ],
   "source": [
    "var = 'expenses'\n",
    "data = pd.concat([train['price'], train[var]], axis=1)\n",
    "data.plot.scatter(x=var, y='price', ylim=(0,800000))\n",
    "plt.xlim(0, 20000)\n",
    "plt.ylim(0, None)\n",
    "\n",
    "plt.show();"
   ]
  },
  {
   "cell_type": "code",
   "execution_count": 31,
   "id": "a6714c90-e193-4f27-a0a1-5176d9fe06be",
   "metadata": {
    "tags": []
   },
   "outputs": [
    {
     "data": {
      "image/png": "[encoded data removed]",
      "text/plain": [
       "<Figure size 640x480 with 1 Axes>"
      ]
     },
     "metadata": {},
     "output_type": "display_data"
    }
   ],
   "source": [
    "var = 'floor'\n",
    "data = pd.concat([train['price'], train[var]], axis=1)\n",
    "data.plot.scatter(x=var, y='price', ylim=(0,800000))\n",
    "plt.xlim(0, 20)\n",
    "plt.ylim(0, None)\n",
    "\n",
    "plt.show();"
   ]
  },
  {
   "cell_type": "code",
   "execution_count": 32,
   "id": "0473fa0a-fdba-47ef-9c9c-30d4e7f992b8",
   "metadata": {
    "tags": []
   },
   "outputs": [
    {
     "data": {
      "image/png": "[encoded data removed]",
      "text/plain": [
       "<Figure size 640x480 with 1 Axes>"
      ]
     },
     "metadata": {},
     "output_type": "display_data"
    }
   ],
   "source": [
    "var = 'proximity_to_center'\n",
    "data = pd.concat([train['price'], train[var]], axis=1)\n",
    "data.plot.scatter(x=var, y='price', ylim=(0,800000))\n",
    "plt.xlim(0.5, 1.0)\n",
    "plt.ylim(0, None)\n",
    " \n",
    "plt.show();"
   ]
  },
  {
   "cell_type": "code",
   "execution_count": 33,
   "id": "62f55337-72cf-4219-bc70-fc36b354face",
   "metadata": {
    "tags": []
   },
   "outputs": [
    {
     "data": {
      "image/png": "[encoded data removed]",
      "text/plain": [
       "<Figure size 640x480 with 1 Axes>"
      ]
     },
     "metadata": {},
     "output_type": "display_data"
    }
   ],
   "source": [
    "var = 'longitude'\n",
    "data = pd.concat([train['price'], train[var]], axis=1)\n",
    "data.plot.scatter(x=var, y='price', ylim=(0,800000))\n",
    "plt.xlim(None, None)\n",
    "plt.ylim(0, None)\n",
    " \n",
    "plt.show();"
   ]
  },
  {
   "cell_type": "code",
   "execution_count": 34,
   "id": "3836929c-8c40-4274-a24d-3bddaaf35db7",
   "metadata": {
    "tags": []
   },
   "outputs": [
    {
     "data": {
      "image/png": "[encoded data removed]",
      "text/plain": [
       "<Figure size 640x480 with 1 Axes>"
      ]
     },
     "metadata": {},
     "output_type": "display_data"
    }
   ],
   "source": [
    "var = 'energy_efficiency'\n",
    "data = pd.concat([train['price'], train[var]], axis=1)\n",
    "data.plot.scatter(x=var, y='price', ylim=(0,800000))\n",
    "plt.xlim(None, None)\n",
    "plt.ylim(0, None)\n",
    " \n",
    "plt.show();"
   ]
  },
  {
   "cell_type": "code",
   "execution_count": 35,
   "id": "28cb3cad-c990-40ea-b8c1-94b0011848f5",
   "metadata": {
    "tags": []
   },
   "outputs": [
    {
     "data": {
      "image/png": "[encoded data removed]",
      "text/plain": [
       "<Figure size 640x480 with 1 Axes>"
      ]
     },
     "metadata": {},
     "output_type": "display_data"
    }
   ],
   "source": [
    "sns.histplot(data=train, x=\"price\", kde=True)\n",
    "plt.xlim(0, 3000000)\n",
    "plt.ylim(0, None)\n",
    " \n",
    "plt.show();"
   ]
  },
  {
   "cell_type": "markdown",
   "id": "0aa0e86c-4a70-430e-9084-e62de127a0a4",
   "metadata": {},
   "source": [
    "### Now I am going to drop outliers "
   ]
  },
  {
   "cell_type": "code",
   "execution_count": 24,
   "id": "7d04c056-5d81-43d7-b057-0330d2678b70",
   "metadata": {
    "tags": []
   },
   "outputs": [],
   "source": [
    "sorted_price = train['price'].sort_values()\n",
    "train = train[(train['price'] >= sorted_price.iloc[3]) & (train['price'] <= sorted_price.iloc[-4])]"
   ]
  },
  {
   "cell_type": "code",
   "execution_count": 25,
   "id": "89d464a0-3e84-4d8c-967a-07214385d87d",
   "metadata": {
    "tags": []
   },
   "outputs": [],
   "source": [
    "sorted_expenses = train['expenses'].sort_values()\n",
    "train = train[(train['expenses'] >= sorted_expenses.iloc[6]) & (train['expenses'] <= sorted_expenses.iloc[-4])]"
   ]
  },
  {
   "cell_type": "code",
   "execution_count": 26,
   "id": "d11d95ae-c25e-4787-ae5d-87bbd0aa73b5",
   "metadata": {
    "tags": []
   },
   "outputs": [],
   "source": [
    "train = train[train['surface'] != 0]"
   ]
  },
  {
   "cell_type": "code",
   "execution_count": 27,
   "id": "8629a4e9-953d-429c-bc7f-8f0bbe837807",
   "metadata": {
    "tags": []
   },
   "outputs": [],
   "source": [
    "train = train[train['total_floors'] < train['total_floors'].sort_values().iloc[-1]]"
   ]
  },
  {
   "cell_type": "code",
   "execution_count": 28,
   "id": "5c6eeabc-cc7a-4fe3-b879-16e705e90719",
   "metadata": {
    "tags": []
   },
   "outputs": [],
   "source": [
    "train = train[train['construction_year'] < train['construction_year'].sort_values().iloc[-1]]"
   ]
  },
  {
   "cell_type": "code",
   "execution_count": 29,
   "id": "ae29af2e-f16a-4a38-b2d5-5ba6c1fb3135",
   "metadata": {
    "tags": []
   },
   "outputs": [],
   "source": [
    "train = train[train['energy_efficiency'] < train['energy_efficiency'].sort_values().iloc[-1]]"
   ]
  },
  {
   "cell_type": "markdown",
   "id": "0b009ee4-5ae5-4bad-8d16-04a8d3fd6ccc",
   "metadata": {},
   "source": [
    "## Model running 1"
   ]
  },
  {
   "cell_type": "code",
   "execution_count": 30,
   "id": "58ee89b8-abda-4690-8111-c144ff103a36",
   "metadata": {
    "tags": []
   },
   "outputs": [],
   "source": [
    "X, y = train.drop('price', axis = 1), train['price'] \n",
    "X_train, X_test, y_train, y_test = train_test_split(X, y, test_size=0.33, random_state = 51)"
   ]
  },
  {
   "cell_type": "markdown",
   "id": "4694f70d-eb00-4d3a-b386-db25cfa40007",
   "metadata": {
    "tags": []
   },
   "source": [
    "### Random Forest run"
   ]
  },
  {
   "cell_type": "code",
   "execution_count": 31,
   "id": "46efe63e-8803-443c-8145-ac21d347ddc0",
   "metadata": {
    "tags": []
   },
   "outputs": [
    {
     "data": {
      "text/html": [
       "<style>#sk-container-id-1 {color: black;background-color: white;}#sk-container-id-1 pre{padding: 0;}#sk-container-id-1 div.sk-toggleable {background-color: white;}#sk-container-id-1 label.sk-toggleable__label {cursor: pointer;display: block;width: 100%;margin-bottom: 0;padding: 0.3em;box-sizing: border-box;text-align: center;}#sk-container-id-1 label.sk-toggleable__label-arrow:before {content: \"▸\";float: left;margin-right: 0.25em;color: #696969;}#sk-container-id-1 label.sk-toggleable__label-arrow:hover:before {color: black;}#sk-container-id-1 div.sk-estimator:hover label.sk-toggleable__label-arrow:before {color: black;}#sk-container-id-1 div.sk-toggleable__content {max-height: 0;max-width: 0;overflow: hidden;text-align: left;background-color: #f0f8ff;}#sk-container-id-1 div.sk-toggleable__content pre {margin: 0.2em;color: black;border-radius: 0.25em;background-color: #f0f8ff;}#sk-container-id-1 input.sk-toggleable__control:checked~div.sk-toggleable__content {max-height: 200px;max-width: 100%;overflow: auto;}#sk-container-id-1 input.sk-toggleable__control:checked~label.sk-toggleable__label-arrow:before {content: \"▾\";}#sk-container-id-1 div.sk-estimator input.sk-toggleable__control:checked~label.sk-toggleable__label {background-color: #d4ebff;}#sk-container-id-1 div.sk-label input.sk-toggleable__control:checked~label.sk-toggleable__label {background-color: #d4ebff;}#sk-container-id-1 input.sk-hidden--visually {border: 0;clip: rect(1px 1px 1px 1px);clip: rect(1px, 1px, 1px, 1px);height: 1px;margin: -1px;overflow: hidden;padding: 0;position: absolute;width: 1px;}#sk-container-id-1 div.sk-estimator {font-family: monospace;background-color: #f0f8ff;border: 1px dotted black;border-radius: 0.25em;box-sizing: border-box;margin-bottom: 0.5em;}#sk-container-id-1 div.sk-estimator:hover {background-color: #d4ebff;}#sk-container-id-1 div.sk-parallel-item::after {content: \"\";width: 100%;border-bottom: 1px solid gray;flex-grow: 1;}#sk-container-id-1 div.sk-label:hover label.sk-toggleable__label {background-color: #d4ebff;}#sk-container-id-1 div.sk-serial::before {content: \"\";position: absolute;border-left: 1px solid gray;box-sizing: border-box;top: 0;bottom: 0;left: 50%;z-index: 0;}#sk-container-id-1 div.sk-serial {display: flex;flex-direction: column;align-items: center;background-color: white;padding-right: 0.2em;padding-left: 0.2em;position: relative;}#sk-container-id-1 div.sk-item {position: relative;z-index: 1;}#sk-container-id-1 div.sk-parallel {display: flex;align-items: stretch;justify-content: center;background-color: white;position: relative;}#sk-container-id-1 div.sk-item::before, #sk-container-id-1 div.sk-parallel-item::before {content: \"\";position: absolute;border-left: 1px solid gray;box-sizing: border-box;top: 0;bottom: 0;left: 50%;z-index: -1;}#sk-container-id-1 div.sk-parallel-item {display: flex;flex-direction: column;z-index: 1;position: relative;background-color: white;}#sk-container-id-1 div.sk-parallel-item:first-child::after {align-self: flex-end;width: 50%;}#sk-container-id-1 div.sk-parallel-item:last-child::after {align-self: flex-start;width: 50%;}#sk-container-id-1 div.sk-parallel-item:only-child::after {width: 0;}#sk-container-id-1 div.sk-dashed-wrapped {border: 1px dashed gray;margin: 0 0.4em 0.5em 0.4em;box-sizing: border-box;padding-bottom: 0.4em;background-color: white;}#sk-container-id-1 div.sk-label label {font-family: monospace;font-weight: bold;display: inline-block;line-height: 1.2em;}#sk-container-id-1 div.sk-label-container {text-align: center;}#sk-container-id-1 div.sk-container {/* jupyter's `normalize.less` sets `[hidden] { display: none; }` but bootstrap.min.css set `[hidden] { display: none !important; }` so we also need the `!important` here to be able to override the default hidden behavior on the sphinx rendered scikit-learn.org. See: https://github.com/scikit-learn/scikit-learn/issues/21755 */display: inline-block !important;position: relative;}#sk-container-id-1 div.sk-text-repr-fallback {display: none;}</style><div id=\"sk-container-id-1\" class=\"sk-top-container\"><div class=\"sk-text-repr-fallback\"><pre>RandomForestRegressor(max_depth=2, random_state=42)</pre><b>In a Jupyter environment, please rerun this cell to show the HTML representation or trust the notebook. <br />On GitHub, the HTML representation is unable to render, please try loading this page with nbviewer.org.</b></div><div class=\"sk-container\" hidden><div class=\"sk-item\"><div class=\"sk-estimator sk-toggleable\"><input class=\"sk-toggleable__control sk-hidden--visually\" id=\"sk-estimator-id-1\" type=\"checkbox\" checked><label for=\"sk-estimator-id-1\" class=\"sk-toggleable__label sk-toggleable__label-arrow\">RandomForestRegressor</label><div class=\"sk-toggleable__content\"><pre>RandomForestRegressor(max_depth=2, random_state=42)</pre></div></div></div></div></div>"
      ],
      "text/plain": [
       "RandomForestRegressor(max_depth=2, random_state=42)"
      ]
     },
     "execution_count": 31,
     "metadata": {},
     "output_type": "execute_result"
    }
   ],
   "source": [
    "RndForest = RandomForestRegressor(max_depth=2, random_state=42)\n",
    "RndForest.fit(X_train, y_train)"
   ]
  },
  {
   "cell_type": "code",
   "execution_count": 32,
   "id": "7f48514d-024e-4394-b5bb-d1c8e2fc616a",
   "metadata": {
    "tags": []
   },
   "outputs": [],
   "source": [
    "pred_rnd_forest = RndForest.predict(X_test)"
   ]
  },
  {
   "cell_type": "markdown",
   "id": "c98d78f6-f5a7-4e13-be84-67ae200c6f33",
   "metadata": {},
   "source": [
    "#### Cross validation on Random Forest "
   ]
  },
  {
   "cell_type": "code",
   "execution_count": 33,
   "id": "18641c36-8dc7-451d-ab13-882391fe99ba",
   "metadata": {
    "tags": []
   },
   "outputs": [
    {
     "name": "stdout",
     "output_type": "stream",
     "text": [
      "Validation score: 0.2465251965129277\n",
      "Cross-validation scores: [0.25677665 0.1750791  0.21743327 0.22202477 0.26188031]\n"
     ]
    }
   ],
   "source": [
    "from sklearn.model_selection import cross_val_score\n",
    "\n",
    "val_score = RndForest.score(X_train, y_train)\n",
    "cv_scores = cross_val_score(RndForest, X, y, cv=5)\n",
    "\n",
    "print(\"Validation score:\", val_score)\n",
    "print(\"Cross-validation scores:\", cv_scores)"
   ]
  },
  {
   "cell_type": "code",
   "execution_count": 34,
   "id": "62ee152d-794d-4c12-b6ab-8c735e99a40a",
   "metadata": {
    "tags": []
   },
   "outputs": [
    {
     "name": "stdout",
     "output_type": "stream",
     "text": [
      "Training score: 0.2465251965129277\n"
     ]
    }
   ],
   "source": [
    "train_score = RndForest.score(X_train, y_train)\n",
    "print(\"Training score:\", train_score)"
   ]
  },
  {
   "cell_type": "code",
   "execution_count": 46,
   "id": "9df7f5d8-2f86-4b56-8ae7-2b009940fd6b",
   "metadata": {
    "tags": []
   },
   "outputs": [
    {
     "data": {
      "text/html": [
       "<div>\n",
       "<style scoped>\n",
       "    .dataframe tbody tr th:only-of-type {\n",
       "        vertical-align: middle;\n",
       "    }\n",
       "\n",
       "    .dataframe tbody tr th {\n",
       "        vertical-align: top;\n",
       "    }\n",
       "\n",
       "    .dataframe thead th {\n",
       "        text-align: right;\n",
       "    }\n",
       "</style>\n",
       "<table border=\"1\" class=\"dataframe\">\n",
       "  <thead>\n",
       "    <tr style=\"text-align: right;\">\n",
       "      <th></th>\n",
       "      <th>col</th>\n",
       "      <th>importances</th>\n",
       "    </tr>\n",
       "  </thead>\n",
       "  <tbody>\n",
       "    <tr>\n",
       "      <th>0</th>\n",
       "      <td>balcony</td>\n",
       "      <td>0.000000</td>\n",
       "    </tr>\n",
       "    <tr>\n",
       "      <th>1</th>\n",
       "      <td>construction_year</td>\n",
       "      <td>0.009707</td>\n",
       "    </tr>\n",
       "    <tr>\n",
       "      <th>2</th>\n",
       "      <td>latitude</td>\n",
       "      <td>0.000000</td>\n",
       "    </tr>\n",
       "    <tr>\n",
       "      <th>3</th>\n",
       "      <td>longitude</td>\n",
       "      <td>0.000812</td>\n",
       "    </tr>\n",
       "    <tr>\n",
       "      <th>4</th>\n",
       "      <td>energy_efficiency</td>\n",
       "      <td>0.000000</td>\n",
       "    </tr>\n",
       "    <tr>\n",
       "      <th>5</th>\n",
       "      <td>expenses</td>\n",
       "      <td>0.000000</td>\n",
       "    </tr>\n",
       "    <tr>\n",
       "      <th>6</th>\n",
       "      <td>floor</td>\n",
       "      <td>0.000619</td>\n",
       "    </tr>\n",
       "    <tr>\n",
       "      <th>7</th>\n",
       "      <td>n_bathrooms</td>\n",
       "      <td>0.007829</td>\n",
       "    </tr>\n",
       "    <tr>\n",
       "      <th>8</th>\n",
       "      <td>elevator</td>\n",
       "      <td>0.000000</td>\n",
       "    </tr>\n",
       "    <tr>\n",
       "      <th>9</th>\n",
       "      <td>total_floors</td>\n",
       "      <td>0.011227</td>\n",
       "    </tr>\n",
       "    <tr>\n",
       "      <th>10</th>\n",
       "      <td>n_rooms</td>\n",
       "      <td>0.000000</td>\n",
       "    </tr>\n",
       "    <tr>\n",
       "      <th>11</th>\n",
       "      <td>proximity_to_center</td>\n",
       "      <td>0.000000</td>\n",
       "    </tr>\n",
       "    <tr>\n",
       "      <th>12</th>\n",
       "      <td>surface</td>\n",
       "      <td>0.950236</td>\n",
       "    </tr>\n",
       "    <tr>\n",
       "      <th>13</th>\n",
       "      <td>Buono stato / Abitabile</td>\n",
       "      <td>0.000000</td>\n",
       "    </tr>\n",
       "    <tr>\n",
       "      <th>14</th>\n",
       "      <td>Da ristrutturare</td>\n",
       "      <td>0.000000</td>\n",
       "    </tr>\n",
       "    <tr>\n",
       "      <th>15</th>\n",
       "      <td>Nuovo / Nuova costruzione</td>\n",
       "      <td>0.000000</td>\n",
       "    </tr>\n",
       "    <tr>\n",
       "      <th>16</th>\n",
       "      <td>Ottimo / Ristrutturato</td>\n",
       "      <td>0.000000</td>\n",
       "    </tr>\n",
       "    <tr>\n",
       "      <th>17</th>\n",
       "      <td>comfortability</td>\n",
       "      <td>0.000000</td>\n",
       "    </tr>\n",
       "    <tr>\n",
       "      <th>18</th>\n",
       "      <td>expense_per_surface</td>\n",
       "      <td>0.019570</td>\n",
       "    </tr>\n",
       "    <tr>\n",
       "      <th>19</th>\n",
       "      <td>desirability</td>\n",
       "      <td>0.000000</td>\n",
       "    </tr>\n",
       "  </tbody>\n",
       "</table>\n",
       "</div>"
      ],
      "text/plain": [
       "                          col  importances\n",
       "0                     balcony     0.000000\n",
       "1           construction_year     0.009707\n",
       "2                    latitude     0.000000\n",
       "3                   longitude     0.000812\n",
       "4           energy_efficiency     0.000000\n",
       "5                    expenses     0.000000\n",
       "6                       floor     0.000619\n",
       "7                 n_bathrooms     0.007829\n",
       "8                    elevator     0.000000\n",
       "9                total_floors     0.011227\n",
       "10                    n_rooms     0.000000\n",
       "11        proximity_to_center     0.000000\n",
       "12                    surface     0.950236\n",
       "13    Buono stato / Abitabile     0.000000\n",
       "14           Da ristrutturare     0.000000\n",
       "15  Nuovo / Nuova costruzione     0.000000\n",
       "16     Ottimo / Ristrutturato     0.000000\n",
       "17             comfortability     0.000000\n",
       "18        expense_per_surface     0.019570\n",
       "19               desirability     0.000000"
      ]
     },
     "execution_count": 46,
     "metadata": {},
     "output_type": "execute_result"
    }
   ],
   "source": [
    "importances = RndForest.feature_importances_\n",
    "pd.DataFrame({\"col\":X.columns, \"importances\":importances})"
   ]
  },
  {
   "cell_type": "markdown",
   "id": "924a0dfb-1b9b-4923-8fda-6e3000c74b47",
   "metadata": {
    "tags": []
   },
   "source": [
    "### Random Forest with PCA"
   ]
  },
  {
   "cell_type": "code",
   "execution_count": 47,
   "id": "90e899fa-5d9b-40f7-8c60-498c075a1317",
   "metadata": {
    "tags": []
   },
   "outputs": [],
   "source": [
    "pipe = Pipeline([('pca', PCA(n_components=5)),\n",
    "                 ('rf', RandomForestRegressor(random_state = 42))])\n",
    "pipe.fit(X_train, y_train)\n",
    "\n",
    "pred_pca = pipe.predict(X_test)"
   ]
  },
  {
   "cell_type": "markdown",
   "id": "58c49f34-a0fd-46ec-af45-708e218dfaa5",
   "metadata": {
    "tags": []
   },
   "source": [
    "### Grid Search on Random Forest"
   ]
  },
  {
   "cell_type": "code",
   "execution_count": 35,
   "id": "edcea95d-040f-4615-93b2-9ec1476044e5",
   "metadata": {
    "tags": []
   },
   "outputs": [],
   "source": [
    "rf = RandomForestRegressor(random_state = 65)\n",
    "\n",
    "from sklearn.model_selection import GridSearchCV, KFold\n",
    "\n",
    "p_grid = {\"max_depth\": [2,3,4,5,6,7]}\n",
    "inner_cv = KFold(n_splits=5, shuffle=True, random_state=65)\n",
    "reg = GridSearchCV(rf, param_grid = p_grid, cv=inner_cv)\n",
    "\n",
    "reg.fit(X_train, y_train)\n",
    "\n",
    "pred_gs = reg.predict(X_test)"
   ]
  },
  {
   "cell_type": "code",
   "execution_count": 36,
   "id": "23afa04e-052a-40e3-a4fa-ed72a6a05a27",
   "metadata": {
    "tags": []
   },
   "outputs": [
    {
     "data": {
      "text/plain": [
       "array([ 330374.03109168,  524813.1445692 ,  317404.38053567, ...,\n",
       "        304749.33261425,  382280.14579587, 1127123.83519203])"
      ]
     },
     "execution_count": 36,
     "metadata": {},
     "output_type": "execute_result"
    }
   ],
   "source": [
    "pred_gs"
   ]
  },
  {
   "cell_type": "markdown",
   "id": "9854cf2e-95d6-43e5-89c5-60d2ae89fffc",
   "metadata": {},
   "source": [
    "### Grid Search with other hyperparameters to tune, more expensive in terms of computational cost"
   ]
  },
  {
   "cell_type": "code",
   "execution_count": 37,
   "id": "d90bd181-1afa-43da-9579-61be86b226ec",
   "metadata": {
    "tags": []
   },
   "outputs": [],
   "source": [
    "# rnd_for = RandomForestRegressor(random_state=65)\n",
    "\n",
    "# p_grid = {\n",
    "#    'max_depth': [2, 3, 4, 5, 6, 7],\n",
    "#    'n_estimators': [50, 100, 150],\n",
    "#    'min_samples_split': [2, 4, 6],\n",
    "#    'min_samples_leaf': [1, 2, 4],\n",
    "# }\n",
    "\n",
    "# inner_cv = KFold(n_splits=5, shuffle=True, random_state=65)\n",
    "# regr = GridSearchCV(rnd_for, param_grid=p_grid, cv=inner_cv)\n",
    "\n",
    "# regr.fit(X_train, y_train)\n",
    "\n",
    "# pred_ext_gs = regr.predict(X_test)"
   ]
  },
  {
   "cell_type": "code",
   "execution_count": null,
   "id": "8d49905a-7642-4474-889e-87a3b7fb5fe6",
   "metadata": {
    "tags": []
   },
   "outputs": [],
   "source": [
    "# pred_ext_gs"
   ]
  },
  {
   "cell_type": "markdown",
   "id": "477f9890-5d8c-4819-aa07-2b28801ccb71",
   "metadata": {},
   "source": [
    "### Cross validation on Random Forest with Grid Search"
   ]
  },
  {
   "cell_type": "code",
   "execution_count": 37,
   "id": "292d4d99-479b-4d0b-9fdd-22246f008d9e",
   "metadata": {},
   "outputs": [
    {
     "name": "stdout",
     "output_type": "stream",
     "text": [
      "Validation score: 0.6734328184080626\n",
      "Cross-validation scores: [0.3981828  0.33706244 0.32249424 0.36334966 0.34463595]\n"
     ]
    }
   ],
   "source": [
    "val_score = reg.score(X_train, y_train)\n",
    "cv_scores = cross_val_score(reg, X, y, cv=5)\n",
    "\n",
    "print(\"Validation score:\", val_score)\n",
    "print(\"Cross-validation scores:\", cv_scores)"
   ]
  },
  {
   "cell_type": "code",
   "execution_count": 38,
   "id": "3fd28ccb-a844-450c-8f96-01dd61e14eaa",
   "metadata": {},
   "outputs": [
    {
     "name": "stdout",
     "output_type": "stream",
     "text": [
      "Training score: 0.6734328184080626\n"
     ]
    }
   ],
   "source": [
    "train_score = reg.score(X_train, y_train)\n",
    "print(\"Training score:\", train_score)"
   ]
  },
  {
   "cell_type": "markdown",
   "id": "1222e9f2-81d1-44e1-bcad-08263c9ae027",
   "metadata": {
    "tags": []
   },
   "source": [
    "### Comparison among models via MSE"
   ]
  },
  {
   "cell_type": "code",
   "execution_count": 36,
   "id": "c4297a26-9f32-4afc-9a00-f0b8290d2571",
   "metadata": {
    "tags": []
   },
   "outputs": [
    {
     "data": {
      "text/plain": [
       "511460784656.99133"
      ]
     },
     "execution_count": 36,
     "metadata": {},
     "output_type": "execute_result"
    }
   ],
   "source": [
    "mean_squared_error(y_test, pred_gs)"
   ]
  },
  {
   "cell_type": "code",
   "execution_count": 37,
   "id": "d890f0cb-5114-4c8f-b637-63fae35c9091",
   "metadata": {
    "tags": []
   },
   "outputs": [
    {
     "data": {
      "text/plain": [
       "664253813411.5586"
      ]
     },
     "execution_count": 37,
     "metadata": {},
     "output_type": "execute_result"
    }
   ],
   "source": [
    "mean_squared_error(y_test, pred_rnd_forest)"
   ]
  },
  {
   "cell_type": "code",
   "execution_count": 54,
   "id": "2d787438-9d2c-43a5-a740-118dede1a0fb",
   "metadata": {},
   "outputs": [
    {
     "data": {
      "text/plain": [
       "747299658815.2574"
      ]
     },
     "execution_count": 54,
     "metadata": {},
     "output_type": "execute_result"
    }
   ],
   "source": [
    "mean_squared_error(y_test, pred_pca)"
   ]
  },
  {
   "cell_type": "code",
   "execution_count": 55,
   "id": "c0ba6176-cffb-480a-9f18-85ec467c7ada",
   "metadata": {},
   "outputs": [],
   "source": [
    "# 1st 529117527787.3757\n",
    "# 2nd 539224937933.0266\n",
    "# 3rd 317572728461.1593\n",
    "# 4th 155566395015.6269\n",
    "\n",
    "# 5th 885590287548.2153\n",
    "# 6th 832264896071.518  \n",
    "\n",
    "# 7th 881929329754.9994\n",
    "# 8th 817826285523.6781\n",
    "\n",
    "# 9th 660440157517.1202\n",
    "# 10th 581068215431.4183\n",
    "\n",
    "# 11th 685079491522.0686\n",
    "# 12th 664650796782.5577"
   ]
  },
  {
   "cell_type": "markdown",
   "id": "8cf2da2d-7396-4f4f-89ac-3d711dd23577",
   "metadata": {
    "tags": []
   },
   "source": [
    "## To .csv 1"
   ]
  },
  {
   "cell_type": "code",
   "execution_count": 37,
   "id": "c4c6c1bb-5190-4583-b658-2dbbb45bf54b",
   "metadata": {
    "tags": []
   },
   "outputs": [],
   "source": [
    "XX_test = test"
   ]
  },
  {
   "cell_type": "code",
   "execution_count": 38,
   "id": "c2aa1e83-68cb-454b-bb54-fca9719c518d",
   "metadata": {
    "tags": []
   },
   "outputs": [],
   "source": [
    "#Y_pred = RndForest.predict(XX_test)\n",
    "#Y_pred"
   ]
  },
  {
   "cell_type": "code",
   "execution_count": 39,
   "id": "a1d9dbb3-4ce0-43a7-9e33-b0a0d84d86e2",
   "metadata": {
    "tags": []
   },
   "outputs": [
    {
     "data": {
      "text/plain": [
       "array([226583.07118601, 227732.54818377, 910447.92481883, ...,\n",
       "       401058.81072583, 213842.44477443, 227732.54818377])"
      ]
     },
     "execution_count": 39,
     "metadata": {},
     "output_type": "execute_result"
    }
   ],
   "source": [
    "Y_pred = reg.predict(XX_test)\n",
    "Y_pred"
   ]
  },
  {
   "cell_type": "code",
   "execution_count": 40,
   "id": "93150fb0-0f39-4202-b7be-22affa8bf0eb",
   "metadata": {
    "tags": []
   },
   "outputs": [
    {
     "data": {
      "text/html": [
       "<div>\n",
       "<style scoped>\n",
       "    .dataframe tbody tr th:only-of-type {\n",
       "        vertical-align: middle;\n",
       "    }\n",
       "\n",
       "    .dataframe tbody tr th {\n",
       "        vertical-align: top;\n",
       "    }\n",
       "\n",
       "    .dataframe thead th {\n",
       "        text-align: right;\n",
       "    }\n",
       "</style>\n",
       "<table border=\"1\" class=\"dataframe\">\n",
       "  <thead>\n",
       "    <tr style=\"text-align: right;\">\n",
       "      <th></th>\n",
       "      <th>id</th>\n",
       "      <th>price</th>\n",
       "    </tr>\n",
       "  </thead>\n",
       "  <tbody>\n",
       "    <tr>\n",
       "      <th>0</th>\n",
       "      <td>18825</td>\n",
       "      <td>226583.071186</td>\n",
       "    </tr>\n",
       "    <tr>\n",
       "      <th>1</th>\n",
       "      <td>30956</td>\n",
       "      <td>227732.548184</td>\n",
       "    </tr>\n",
       "    <tr>\n",
       "      <th>2</th>\n",
       "      <td>47193</td>\n",
       "      <td>910447.924819</td>\n",
       "    </tr>\n",
       "    <tr>\n",
       "      <th>3</th>\n",
       "      <td>27799</td>\n",
       "      <td>348726.649255</td>\n",
       "    </tr>\n",
       "    <tr>\n",
       "      <th>4</th>\n",
       "      <td>22259</td>\n",
       "      <td>251279.730246</td>\n",
       "    </tr>\n",
       "    <tr>\n",
       "      <th>...</th>\n",
       "      <td>...</td>\n",
       "      <td>...</td>\n",
       "    </tr>\n",
       "    <tr>\n",
       "      <th>19783</th>\n",
       "      <td>22961</td>\n",
       "      <td>496631.086835</td>\n",
       "    </tr>\n",
       "    <tr>\n",
       "      <th>19784</th>\n",
       "      <td>4606</td>\n",
       "      <td>406676.911755</td>\n",
       "    </tr>\n",
       "    <tr>\n",
       "      <th>19785</th>\n",
       "      <td>6106</td>\n",
       "      <td>401058.810726</td>\n",
       "    </tr>\n",
       "    <tr>\n",
       "      <th>19786</th>\n",
       "      <td>35370</td>\n",
       "      <td>213842.444774</td>\n",
       "    </tr>\n",
       "    <tr>\n",
       "      <th>19787</th>\n",
       "      <td>24890</td>\n",
       "      <td>227732.548184</td>\n",
       "    </tr>\n",
       "  </tbody>\n",
       "</table>\n",
       "<p>19788 rows × 2 columns</p>\n",
       "</div>"
      ],
      "text/plain": [
       "          id          price\n",
       "0      18825  226583.071186\n",
       "1      30956  227732.548184\n",
       "2      47193  910447.924819\n",
       "3      27799  348726.649255\n",
       "4      22259  251279.730246\n",
       "...      ...            ...\n",
       "19783  22961  496631.086835\n",
       "19784   4606  406676.911755\n",
       "19785   6106  401058.810726\n",
       "19786  35370  213842.444774\n",
       "19787  24890  227732.548184\n",
       "\n",
       "[19788 rows x 2 columns]"
      ]
     },
     "execution_count": 40,
     "metadata": {},
     "output_type": "execute_result"
    }
   ],
   "source": [
    "output = pd.DataFrame({'id': id_test, 'price': Y_pred})\n",
    "output"
   ]
  },
  {
   "cell_type": "code",
   "execution_count": 41,
   "id": "d4cfb723-c937-433b-802f-7eae289bbca5",
   "metadata": {
    "tags": []
   },
   "outputs": [],
   "source": [
    "output.to_csv('outputnew.csv', index = False)"
   ]
  },
  {
   "cell_type": "markdown",
   "id": "eaccfe54-8d04-4bc0-b428-58c9e5563cc4",
   "metadata": {
    "tags": []
   },
   "source": [
    "## Model running 2"
   ]
  },
  {
   "cell_type": "code",
   "execution_count": 61,
   "id": "ce88ccce-acfe-405e-9cd5-4cc55e81248c",
   "metadata": {
    "tags": []
   },
   "outputs": [],
   "source": [
    "train = MilRomVen(train)\n",
    "test = MilRomVen(test)"
   ]
  },
  {
   "cell_type": "code",
   "execution_count": 62,
   "id": "57096402-8d29-4183-b921-f1f14fbca070",
   "metadata": {
    "tags": []
   },
   "outputs": [
    {
     "data": {
      "text/html": [
       "<div>\n",
       "<style scoped>\n",
       "    .dataframe tbody tr th:only-of-type {\n",
       "        vertical-align: middle;\n",
       "    }\n",
       "\n",
       "    .dataframe tbody tr th {\n",
       "        vertical-align: top;\n",
       "    }\n",
       "\n",
       "    .dataframe thead th {\n",
       "        text-align: right;\n",
       "    }\n",
       "</style>\n",
       "<table border=\"1\" class=\"dataframe\">\n",
       "  <thead>\n",
       "    <tr style=\"text-align: right;\">\n",
       "      <th></th>\n",
       "      <th>balcony</th>\n",
       "      <th>construction_year</th>\n",
       "      <th>energy_efficiency</th>\n",
       "      <th>expenses</th>\n",
       "      <th>floor</th>\n",
       "      <th>n_bathrooms</th>\n",
       "      <th>elevator</th>\n",
       "      <th>total_floors</th>\n",
       "      <th>n_rooms</th>\n",
       "      <th>proximity_to_center</th>\n",
       "      <th>...</th>\n",
       "      <th>Buono stato / Abitabile</th>\n",
       "      <th>Da ristrutturare</th>\n",
       "      <th>Nuovo / Nuova costruzione</th>\n",
       "      <th>Ottimo / Ristrutturato</th>\n",
       "      <th>comfortability</th>\n",
       "      <th>expense_per_surface</th>\n",
       "      <th>desirability</th>\n",
       "      <th>Milan</th>\n",
       "      <th>Venice</th>\n",
       "      <th>Rome</th>\n",
       "    </tr>\n",
       "  </thead>\n",
       "  <tbody>\n",
       "    <tr>\n",
       "      <th>0</th>\n",
       "      <td>True</td>\n",
       "      <td>2010.0</td>\n",
       "      <td>-0.016292</td>\n",
       "      <td>-0.039555</td>\n",
       "      <td>3.0</td>\n",
       "      <td>1.000000</td>\n",
       "      <td>1.0</td>\n",
       "      <td>5.000000</td>\n",
       "      <td>2.0</td>\n",
       "      <td>1.000000</td>\n",
       "      <td>...</td>\n",
       "      <td>0</td>\n",
       "      <td>0</td>\n",
       "      <td>1</td>\n",
       "      <td>0</td>\n",
       "      <td>0.0</td>\n",
       "      <td>0.082224</td>\n",
       "      <td>1</td>\n",
       "      <td>0</td>\n",
       "      <td>0</td>\n",
       "      <td>1</td>\n",
       "    </tr>\n",
       "    <tr>\n",
       "      <th>1</th>\n",
       "      <td>True</td>\n",
       "      <td>1900.0</td>\n",
       "      <td>-0.016292</td>\n",
       "      <td>-0.039778</td>\n",
       "      <td>0.0</td>\n",
       "      <td>1.000000</td>\n",
       "      <td>1.0</td>\n",
       "      <td>3.000000</td>\n",
       "      <td>2.0</td>\n",
       "      <td>1.000000</td>\n",
       "      <td>...</td>\n",
       "      <td>1</td>\n",
       "      <td>0</td>\n",
       "      <td>0</td>\n",
       "      <td>0</td>\n",
       "      <td>0.0</td>\n",
       "      <td>0.064623</td>\n",
       "      <td>2</td>\n",
       "      <td>0</td>\n",
       "      <td>1</td>\n",
       "      <td>0</td>\n",
       "    </tr>\n",
       "    <tr>\n",
       "      <th>2</th>\n",
       "      <td>True</td>\n",
       "      <td>1960.0</td>\n",
       "      <td>-0.016292</td>\n",
       "      <td>-0.021986</td>\n",
       "      <td>-1.0</td>\n",
       "      <td>3.000000</td>\n",
       "      <td>0.0</td>\n",
       "      <td>2.695243</td>\n",
       "      <td>3.0</td>\n",
       "      <td>1.000000</td>\n",
       "      <td>...</td>\n",
       "      <td>1</td>\n",
       "      <td>0</td>\n",
       "      <td>0</td>\n",
       "      <td>0</td>\n",
       "      <td>0.0</td>\n",
       "      <td>-0.078260</td>\n",
       "      <td>0</td>\n",
       "      <td>1</td>\n",
       "      <td>0</td>\n",
       "      <td>0</td>\n",
       "    </tr>\n",
       "    <tr>\n",
       "      <th>3</th>\n",
       "      <td>True</td>\n",
       "      <td>1962.0</td>\n",
       "      <td>-0.014259</td>\n",
       "      <td>-0.021986</td>\n",
       "      <td>6.0</td>\n",
       "      <td>1.469499</td>\n",
       "      <td>1.0</td>\n",
       "      <td>6.000000</td>\n",
       "      <td>3.0</td>\n",
       "      <td>1.000000</td>\n",
       "      <td>...</td>\n",
       "      <td>1</td>\n",
       "      <td>0</td>\n",
       "      <td>0</td>\n",
       "      <td>0</td>\n",
       "      <td>1.0</td>\n",
       "      <td>0.115892</td>\n",
       "      <td>2</td>\n",
       "      <td>0</td>\n",
       "      <td>1</td>\n",
       "      <td>0</td>\n",
       "    </tr>\n",
       "    <tr>\n",
       "      <th>4</th>\n",
       "      <td>True</td>\n",
       "      <td>2006.0</td>\n",
       "      <td>-0.016292</td>\n",
       "      <td>-0.025322</td>\n",
       "      <td>4.0</td>\n",
       "      <td>2.000000</td>\n",
       "      <td>1.0</td>\n",
       "      <td>4.000000</td>\n",
       "      <td>3.0</td>\n",
       "      <td>1.000000</td>\n",
       "      <td>...</td>\n",
       "      <td>1</td>\n",
       "      <td>0</td>\n",
       "      <td>0</td>\n",
       "      <td>0</td>\n",
       "      <td>1.0</td>\n",
       "      <td>0.070771</td>\n",
       "      <td>1</td>\n",
       "      <td>0</td>\n",
       "      <td>0</td>\n",
       "      <td>1</td>\n",
       "    </tr>\n",
       "    <tr>\n",
       "      <th>...</th>\n",
       "      <td>...</td>\n",
       "      <td>...</td>\n",
       "      <td>...</td>\n",
       "      <td>...</td>\n",
       "      <td>...</td>\n",
       "      <td>...</td>\n",
       "      <td>...</td>\n",
       "      <td>...</td>\n",
       "      <td>...</td>\n",
       "      <td>...</td>\n",
       "      <td>...</td>\n",
       "      <td>...</td>\n",
       "      <td>...</td>\n",
       "      <td>...</td>\n",
       "      <td>...</td>\n",
       "      <td>...</td>\n",
       "      <td>...</td>\n",
       "      <td>...</td>\n",
       "      <td>...</td>\n",
       "      <td>...</td>\n",
       "      <td>...</td>\n",
       "    </tr>\n",
       "    <tr>\n",
       "      <th>19783</th>\n",
       "      <td>True</td>\n",
       "      <td>1980.0</td>\n",
       "      <td>-0.016292</td>\n",
       "      <td>-0.028658</td>\n",
       "      <td>3.0</td>\n",
       "      <td>2.000000</td>\n",
       "      <td>1.0</td>\n",
       "      <td>7.000000</td>\n",
       "      <td>4.0</td>\n",
       "      <td>1.000000</td>\n",
       "      <td>...</td>\n",
       "      <td>1</td>\n",
       "      <td>0</td>\n",
       "      <td>0</td>\n",
       "      <td>0</td>\n",
       "      <td>0.0</td>\n",
       "      <td>-0.127421</td>\n",
       "      <td>1</td>\n",
       "      <td>0</td>\n",
       "      <td>0</td>\n",
       "      <td>1</td>\n",
       "    </tr>\n",
       "    <tr>\n",
       "      <th>19784</th>\n",
       "      <td>True</td>\n",
       "      <td>1960.0</td>\n",
       "      <td>-0.016292</td>\n",
       "      <td>-0.021986</td>\n",
       "      <td>2.0</td>\n",
       "      <td>1.000000</td>\n",
       "      <td>0.0</td>\n",
       "      <td>4.415368</td>\n",
       "      <td>2.0</td>\n",
       "      <td>1.000000</td>\n",
       "      <td>...</td>\n",
       "      <td>1</td>\n",
       "      <td>0</td>\n",
       "      <td>0</td>\n",
       "      <td>0</td>\n",
       "      <td>0.0</td>\n",
       "      <td>-0.386954</td>\n",
       "      <td>2</td>\n",
       "      <td>0</td>\n",
       "      <td>1</td>\n",
       "      <td>0</td>\n",
       "    </tr>\n",
       "    <tr>\n",
       "      <th>19785</th>\n",
       "      <td>True</td>\n",
       "      <td>1960.0</td>\n",
       "      <td>-0.016292</td>\n",
       "      <td>-0.021986</td>\n",
       "      <td>0.0</td>\n",
       "      <td>2.000000</td>\n",
       "      <td>1.0</td>\n",
       "      <td>6.000000</td>\n",
       "      <td>3.0</td>\n",
       "      <td>1.000000</td>\n",
       "      <td>...</td>\n",
       "      <td>1</td>\n",
       "      <td>0</td>\n",
       "      <td>0</td>\n",
       "      <td>0</td>\n",
       "      <td>0.0</td>\n",
       "      <td>0.669719</td>\n",
       "      <td>1</td>\n",
       "      <td>0</td>\n",
       "      <td>0</td>\n",
       "      <td>1</td>\n",
       "    </tr>\n",
       "    <tr>\n",
       "      <th>19786</th>\n",
       "      <td>True</td>\n",
       "      <td>1970.0</td>\n",
       "      <td>-0.016292</td>\n",
       "      <td>-0.028658</td>\n",
       "      <td>1.0</td>\n",
       "      <td>1.000000</td>\n",
       "      <td>1.0</td>\n",
       "      <td>3.000000</td>\n",
       "      <td>3.0</td>\n",
       "      <td>1.000000</td>\n",
       "      <td>...</td>\n",
       "      <td>0</td>\n",
       "      <td>0</td>\n",
       "      <td>0</td>\n",
       "      <td>1</td>\n",
       "      <td>0.0</td>\n",
       "      <td>0.039387</td>\n",
       "      <td>1</td>\n",
       "      <td>0</td>\n",
       "      <td>0</td>\n",
       "      <td>1</td>\n",
       "    </tr>\n",
       "    <tr>\n",
       "      <th>19787</th>\n",
       "      <td>True</td>\n",
       "      <td>2013.0</td>\n",
       "      <td>-0.016292</td>\n",
       "      <td>-0.038443</td>\n",
       "      <td>0.0</td>\n",
       "      <td>1.000000</td>\n",
       "      <td>1.0</td>\n",
       "      <td>1.000000</td>\n",
       "      <td>3.0</td>\n",
       "      <td>0.995808</td>\n",
       "      <td>...</td>\n",
       "      <td>1</td>\n",
       "      <td>0</td>\n",
       "      <td>0</td>\n",
       "      <td>0</td>\n",
       "      <td>0.0</td>\n",
       "      <td>0.052836</td>\n",
       "      <td>1</td>\n",
       "      <td>0</td>\n",
       "      <td>0</td>\n",
       "      <td>1</td>\n",
       "    </tr>\n",
       "  </tbody>\n",
       "</table>\n",
       "<p>19788 rows × 21 columns</p>\n",
       "</div>"
      ],
      "text/plain": [
       "       balcony  construction_year  energy_efficiency  expenses  floor   \n",
       "0         True             2010.0          -0.016292 -0.039555    3.0  \\\n",
       "1         True             1900.0          -0.016292 -0.039778    0.0   \n",
       "2         True             1960.0          -0.016292 -0.021986   -1.0   \n",
       "3         True             1962.0          -0.014259 -0.021986    6.0   \n",
       "4         True             2006.0          -0.016292 -0.025322    4.0   \n",
       "...        ...                ...                ...       ...    ...   \n",
       "19783     True             1980.0          -0.016292 -0.028658    3.0   \n",
       "19784     True             1960.0          -0.016292 -0.021986    2.0   \n",
       "19785     True             1960.0          -0.016292 -0.021986    0.0   \n",
       "19786     True             1970.0          -0.016292 -0.028658    1.0   \n",
       "19787     True             2013.0          -0.016292 -0.038443    0.0   \n",
       "\n",
       "       n_bathrooms  elevator  total_floors  n_rooms  proximity_to_center  ...   \n",
       "0         1.000000       1.0      5.000000      2.0             1.000000  ...  \\\n",
       "1         1.000000       1.0      3.000000      2.0             1.000000  ...   \n",
       "2         3.000000       0.0      2.695243      3.0             1.000000  ...   \n",
       "3         1.469499       1.0      6.000000      3.0             1.000000  ...   \n",
       "4         2.000000       1.0      4.000000      3.0             1.000000  ...   \n",
       "...            ...       ...           ...      ...                  ...  ...   \n",
       "19783     2.000000       1.0      7.000000      4.0             1.000000  ...   \n",
       "19784     1.000000       0.0      4.415368      2.0             1.000000  ...   \n",
       "19785     2.000000       1.0      6.000000      3.0             1.000000  ...   \n",
       "19786     1.000000       1.0      3.000000      3.0             1.000000  ...   \n",
       "19787     1.000000       1.0      1.000000      3.0             0.995808  ...   \n",
       "\n",
       "       Buono stato / Abitabile  Da ristrutturare  Nuovo / Nuova costruzione   \n",
       "0                            0                 0                          1  \\\n",
       "1                            1                 0                          0   \n",
       "2                            1                 0                          0   \n",
       "3                            1                 0                          0   \n",
       "4                            1                 0                          0   \n",
       "...                        ...               ...                        ...   \n",
       "19783                        1                 0                          0   \n",
       "19784                        1                 0                          0   \n",
       "19785                        1                 0                          0   \n",
       "19786                        0                 0                          0   \n",
       "19787                        1                 0                          0   \n",
       "\n",
       "       Ottimo / Ristrutturato  comfortability  expense_per_surface   \n",
       "0                           0             0.0             0.082224  \\\n",
       "1                           0             0.0             0.064623   \n",
       "2                           0             0.0            -0.078260   \n",
       "3                           0             1.0             0.115892   \n",
       "4                           0             1.0             0.070771   \n",
       "...                       ...             ...                  ...   \n",
       "19783                       0             0.0            -0.127421   \n",
       "19784                       0             0.0            -0.386954   \n",
       "19785                       0             0.0             0.669719   \n",
       "19786                       1             0.0             0.039387   \n",
       "19787                       0             0.0             0.052836   \n",
       "\n",
       "       desirability  Milan  Venice  Rome  \n",
       "0                 1      0       0     1  \n",
       "1                 2      0       1     0  \n",
       "2                 0      1       0     0  \n",
       "3                 2      0       1     0  \n",
       "4                 1      0       0     1  \n",
       "...             ...    ...     ...   ...  \n",
       "19783             1      0       0     1  \n",
       "19784             2      0       1     0  \n",
       "19785             1      0       0     1  \n",
       "19786             1      0       0     1  \n",
       "19787             1      0       0     1  \n",
       "\n",
       "[19788 rows x 21 columns]"
      ]
     },
     "execution_count": 62,
     "metadata": {},
     "output_type": "execute_result"
    }
   ],
   "source": [
    "test"
   ]
  },
  {
   "cell_type": "code",
   "execution_count": 63,
   "id": "e9343f16-c9e3-41b7-a354-88807a6ed592",
   "metadata": {
    "tags": []
   },
   "outputs": [],
   "source": [
    "train_milan = train[train['Milan'] == 1].drop(['Rome','Venice'], axis = 1)\n",
    "train_venice = train[train['Venice'] == 1].drop(['Milan','Rome'], axis = 1)\n",
    "train_rome = train[train['Rome'] == 1].drop(['Milan','Venice'], axis = 1)"
   ]
  },
  {
   "cell_type": "code",
   "execution_count": 64,
   "id": "a35ebc81-bac0-46ce-8c24-be2d6bca30fe",
   "metadata": {
    "tags": []
   },
   "outputs": [],
   "source": [
    "X_m, y_m = train_milan.drop('price', axis=1), train_milan['price']\n",
    "X_r, y_r = train_rome.drop('price', axis=1), train_rome['price']\n",
    "X_v, y_v = train_venice.drop('price', axis=1), train_venice['price']"
   ]
  },
  {
   "cell_type": "code",
   "execution_count": 65,
   "id": "be412ebb-5534-4b2d-a08a-12e0e51bab81",
   "metadata": {
    "tags": []
   },
   "outputs": [],
   "source": [
    "X_train_m, X_test_m, y_train_m, y_test_m = train_test_split(X_m, y_m, test_size=0.33, random_state = 42)\n",
    "X_train_r, X_test_r, y_train_r, y_test_r = train_test_split(X_r, y_r, test_size=0.33, random_state = 42)\n",
    "X_train_v, X_test_v, y_train_v, y_test_v = train_test_split(X_v, y_v, test_size=0.33, random_state = 42)"
   ]
  },
  {
   "cell_type": "code",
   "execution_count": 66,
   "id": "bb5af11c-fb5a-415f-ac5f-10a27e044ffb",
   "metadata": {
    "tags": []
   },
   "outputs": [
    {
     "data": {
      "text/html": [
       "<style>#sk-container-id-2 {color: black;background-color: white;}#sk-container-id-2 pre{padding: 0;}#sk-container-id-2 div.sk-toggleable {background-color: white;}#sk-container-id-2 label.sk-toggleable__label {cursor: pointer;display: block;width: 100%;margin-bottom: 0;padding: 0.3em;box-sizing: border-box;text-align: center;}#sk-container-id-2 label.sk-toggleable__label-arrow:before {content: \"▸\";float: left;margin-right: 0.25em;color: #696969;}#sk-container-id-2 label.sk-toggleable__label-arrow:hover:before {color: black;}#sk-container-id-2 div.sk-estimator:hover label.sk-toggleable__label-arrow:before {color: black;}#sk-container-id-2 div.sk-toggleable__content {max-height: 0;max-width: 0;overflow: hidden;text-align: left;background-color: #f0f8ff;}#sk-container-id-2 div.sk-toggleable__content pre {margin: 0.2em;color: black;border-radius: 0.25em;background-color: #f0f8ff;}#sk-container-id-2 input.sk-toggleable__control:checked~div.sk-toggleable__content {max-height: 200px;max-width: 100%;overflow: auto;}#sk-container-id-2 input.sk-toggleable__control:checked~label.sk-toggleable__label-arrow:before {content: \"▾\";}#sk-container-id-2 div.sk-estimator input.sk-toggleable__control:checked~label.sk-toggleable__label {background-color: #d4ebff;}#sk-container-id-2 div.sk-label input.sk-toggleable__control:checked~label.sk-toggleable__label {background-color: #d4ebff;}#sk-container-id-2 input.sk-hidden--visually {border: 0;clip: rect(1px 1px 1px 1px);clip: rect(1px, 1px, 1px, 1px);height: 1px;margin: -1px;overflow: hidden;padding: 0;position: absolute;width: 1px;}#sk-container-id-2 div.sk-estimator {font-family: monospace;background-color: #f0f8ff;border: 1px dotted black;border-radius: 0.25em;box-sizing: border-box;margin-bottom: 0.5em;}#sk-container-id-2 div.sk-estimator:hover {background-color: #d4ebff;}#sk-container-id-2 div.sk-parallel-item::after {content: \"\";width: 100%;border-bottom: 1px solid gray;flex-grow: 1;}#sk-container-id-2 div.sk-label:hover label.sk-toggleable__label {background-color: #d4ebff;}#sk-container-id-2 div.sk-serial::before {content: \"\";position: absolute;border-left: 1px solid gray;box-sizing: border-box;top: 0;bottom: 0;left: 50%;z-index: 0;}#sk-container-id-2 div.sk-serial {display: flex;flex-direction: column;align-items: center;background-color: white;padding-right: 0.2em;padding-left: 0.2em;position: relative;}#sk-container-id-2 div.sk-item {position: relative;z-index: 1;}#sk-container-id-2 div.sk-parallel {display: flex;align-items: stretch;justify-content: center;background-color: white;position: relative;}#sk-container-id-2 div.sk-item::before, #sk-container-id-2 div.sk-parallel-item::before {content: \"\";position: absolute;border-left: 1px solid gray;box-sizing: border-box;top: 0;bottom: 0;left: 50%;z-index: -1;}#sk-container-id-2 div.sk-parallel-item {display: flex;flex-direction: column;z-index: 1;position: relative;background-color: white;}#sk-container-id-2 div.sk-parallel-item:first-child::after {align-self: flex-end;width: 50%;}#sk-container-id-2 div.sk-parallel-item:last-child::after {align-self: flex-start;width: 50%;}#sk-container-id-2 div.sk-parallel-item:only-child::after {width: 0;}#sk-container-id-2 div.sk-dashed-wrapped {border: 1px dashed gray;margin: 0 0.4em 0.5em 0.4em;box-sizing: border-box;padding-bottom: 0.4em;background-color: white;}#sk-container-id-2 div.sk-label label {font-family: monospace;font-weight: bold;display: inline-block;line-height: 1.2em;}#sk-container-id-2 div.sk-label-container {text-align: center;}#sk-container-id-2 div.sk-container {/* jupyter's `normalize.less` sets `[hidden] { display: none; }` but bootstrap.min.css set `[hidden] { display: none !important; }` so we also need the `!important` here to be able to override the default hidden behavior on the sphinx rendered scikit-learn.org. See: https://github.com/scikit-learn/scikit-learn/issues/21755 */display: inline-block !important;position: relative;}#sk-container-id-2 div.sk-text-repr-fallback {display: none;}</style><div id=\"sk-container-id-2\" class=\"sk-top-container\"><div class=\"sk-text-repr-fallback\"><pre>RandomForestRegressor(random_state=42)</pre><b>In a Jupyter environment, please rerun this cell to show the HTML representation or trust the notebook. <br />On GitHub, the HTML representation is unable to render, please try loading this page with nbviewer.org.</b></div><div class=\"sk-container\" hidden><div class=\"sk-item\"><div class=\"sk-estimator sk-toggleable\"><input class=\"sk-toggleable__control sk-hidden--visually\" id=\"sk-estimator-id-2\" type=\"checkbox\" checked><label for=\"sk-estimator-id-2\" class=\"sk-toggleable__label sk-toggleable__label-arrow\">RandomForestRegressor</label><div class=\"sk-toggleable__content\"><pre>RandomForestRegressor(random_state=42)</pre></div></div></div></div></div>"
      ],
      "text/plain": [
       "RandomForestRegressor(random_state=42)"
      ]
     },
     "execution_count": 66,
     "metadata": {},
     "output_type": "execute_result"
    }
   ],
   "source": [
    "rf_milan = RandomForestRegressor(n_estimators=100, random_state=42)   # Here I am training random forest on Milan data\n",
    "rf_milan.fit(X_train_m, y_train_m)\n",
    "\n",
    "rf_venice = RandomForestRegressor(n_estimators=100, random_state=42)  # Here I am training random forest on Venice data\n",
    "rf_venice.fit(X_train_v, y_train_v)\n",
    "\n",
    "rf_rome = RandomForestRegressor(n_estimators=100, random_state=42)    # Here I am training random forest on Rome data\n",
    "rf_rome.fit(X_train_r, y_train_r)"
   ]
  },
  {
   "cell_type": "code",
   "execution_count": 67,
   "id": "c07ebe32-c0e9-49cd-93d9-b4811981a595",
   "metadata": {
    "tags": []
   },
   "outputs": [],
   "source": [
    "# test_milan = test[test['Milan'] == 1].drop(['Rome','Venice'], axis = 1)\n",
    "# test_venice = test[test['Venice'] == 1].drop(['Milan','Rome'], axis = 1)\n",
    "# test_rome = test[test['Rome'] == 1].drop(['Milan','Venice'], axis = 1)\n",
    "\n",
    "# Make predictions on each of the test dataframes using the corresponding random forest\n",
    "pred_milan = rf_milan.predict(X_test_m)\n",
    "pred_venice = rf_venice.predict(X_test_v)\n",
    "pred_rome = rf_rome.predict(X_test_r)\n",
    "\n",
    "prediction_cities = np.concatenate((pred_milan, pred_venice, pred_rome), axis = 0)\n",
    "y_test_cities = np.concatenate((y_test_m, y_test_v, y_test_r), axis = 0)"
   ]
  },
  {
   "cell_type": "markdown",
   "id": "da1a9458-3cce-4bde-b351-95feb77dc245",
   "metadata": {
    "tags": []
   },
   "source": [
    "### MSE"
   ]
  },
  {
   "cell_type": "code",
   "execution_count": 68,
   "id": "cc8ca3c2-e015-4862-a70d-4ba7db0d703e",
   "metadata": {
    "tags": []
   },
   "outputs": [
    {
     "data": {
      "text/plain": [
       "639045150363.7021"
      ]
     },
     "execution_count": 68,
     "metadata": {},
     "output_type": "execute_result"
    }
   ],
   "source": [
    "mean_squared_error(y_test_cities, prediction_cities)"
   ]
  },
  {
   "cell_type": "markdown",
   "id": "68fa4fb9-c72d-4add-b2d3-57e9c450b5a0",
   "metadata": {
    "tags": []
   },
   "source": [
    "## To .csv 2"
   ]
  },
  {
   "cell_type": "code",
   "execution_count": 69,
   "id": "280a77f0-49b7-45b6-a3b5-9df10180bae0",
   "metadata": {
    "tags": []
   },
   "outputs": [],
   "source": [
    "XX_test_m = test[test['Milan'] == 1].drop(['Rome','Venice'], axis = 1)\n",
    "XX_test_v = test[test['Venice'] == 1].drop(['Milan','Rome'], axis = 1)\n",
    "XX_test_r = test[test['Rome'] == 1].drop(['Milan','Venice'], axis = 1)"
   ]
  },
  {
   "cell_type": "code",
   "execution_count": 70,
   "id": "d7cc5ce9-839d-4e8c-a70d-7543bfc9a7e7",
   "metadata": {
    "tags": []
   },
   "outputs": [],
   "source": [
    "test.insert(0, 'id', id_test, allow_duplicates=False)\n",
    "\n",
    "test_m_id = test[test['Milan'] == 1].iloc[:, 0]\n",
    "test_v_id = test[test['Venice'] == 1].iloc[:, 0]\n",
    "test_r_id = test[test['Rome'] == 1].iloc[:, 0]"
   ]
  },
  {
   "cell_type": "code",
   "execution_count": 71,
   "id": "d787c6fa-662f-4198-a640-8d3288e7d727",
   "metadata": {
    "tags": []
   },
   "outputs": [],
   "source": [
    "Y_pred_m = rf_milan.predict(XX_test_m)\n",
    "Y_pred_v = rf_venice.predict(XX_test_v)\n",
    "Y_pred_r = rf_rome.predict(XX_test_r)"
   ]
  },
  {
   "cell_type": "code",
   "execution_count": 72,
   "id": "bc4f0631-e53e-4357-a950-fff899a07b94",
   "metadata": {
    "tags": []
   },
   "outputs": [
    {
     "data": {
      "text/plain": [
       "array([ 581315.        ,  325591.        ,  461983.33333333, ...,\n",
       "       1142030.        ,  273510.        ,  231060.        ])"
      ]
     },
     "execution_count": 72,
     "metadata": {},
     "output_type": "execute_result"
    }
   ],
   "source": [
    "Y_pred_m"
   ]
  },
  {
   "cell_type": "code",
   "execution_count": 73,
   "id": "bbe266d6-16d9-4b51-a654-3c0e014957ef",
   "metadata": {
    "tags": []
   },
   "outputs": [],
   "source": [
    "prediction_city = np.concatenate((Y_pred_m, Y_pred_v, Y_pred_r), axis = 0)\n",
    "ids = np.concatenate((test_m_id, test_v_id, test_r_id), axis = 0)"
   ]
  },
  {
   "cell_type": "code",
   "execution_count": 74,
   "id": "5d91137f-3583-4109-98c9-705d3d7d2d2f",
   "metadata": {
    "tags": []
   },
   "outputs": [
    {
     "data": {
      "text/html": [
       "<div>\n",
       "<style scoped>\n",
       "    .dataframe tbody tr th:only-of-type {\n",
       "        vertical-align: middle;\n",
       "    }\n",
       "\n",
       "    .dataframe tbody tr th {\n",
       "        vertical-align: top;\n",
       "    }\n",
       "\n",
       "    .dataframe thead th {\n",
       "        text-align: right;\n",
       "    }\n",
       "</style>\n",
       "<table border=\"1\" class=\"dataframe\">\n",
       "  <thead>\n",
       "    <tr style=\"text-align: right;\">\n",
       "      <th></th>\n",
       "      <th>id</th>\n",
       "      <th>price</th>\n",
       "    </tr>\n",
       "  </thead>\n",
       "  <tbody>\n",
       "    <tr>\n",
       "      <th>0</th>\n",
       "      <td>47193</td>\n",
       "      <td>5.813150e+05</td>\n",
       "    </tr>\n",
       "    <tr>\n",
       "      <th>1</th>\n",
       "      <td>42190</td>\n",
       "      <td>3.255910e+05</td>\n",
       "    </tr>\n",
       "    <tr>\n",
       "      <th>2</th>\n",
       "      <td>50303</td>\n",
       "      <td>4.619833e+05</td>\n",
       "    </tr>\n",
       "    <tr>\n",
       "      <th>3</th>\n",
       "      <td>34920</td>\n",
       "      <td>5.503600e+05</td>\n",
       "    </tr>\n",
       "    <tr>\n",
       "      <th>4</th>\n",
       "      <td>58714</td>\n",
       "      <td>3.847625e+05</td>\n",
       "    </tr>\n",
       "    <tr>\n",
       "      <th>...</th>\n",
       "      <td>...</td>\n",
       "      <td>...</td>\n",
       "    </tr>\n",
       "    <tr>\n",
       "      <th>19783</th>\n",
       "      <td>43102</td>\n",
       "      <td>4.755764e+05</td>\n",
       "    </tr>\n",
       "    <tr>\n",
       "      <th>19784</th>\n",
       "      <td>22961</td>\n",
       "      <td>1.469635e+06</td>\n",
       "    </tr>\n",
       "    <tr>\n",
       "      <th>19785</th>\n",
       "      <td>6106</td>\n",
       "      <td>5.623479e+05</td>\n",
       "    </tr>\n",
       "    <tr>\n",
       "      <th>19786</th>\n",
       "      <td>35370</td>\n",
       "      <td>2.087100e+05</td>\n",
       "    </tr>\n",
       "    <tr>\n",
       "      <th>19787</th>\n",
       "      <td>24890</td>\n",
       "      <td>1.390060e+05</td>\n",
       "    </tr>\n",
       "  </tbody>\n",
       "</table>\n",
       "<p>19788 rows × 2 columns</p>\n",
       "</div>"
      ],
      "text/plain": [
       "          id         price\n",
       "0      47193  5.813150e+05\n",
       "1      42190  3.255910e+05\n",
       "2      50303  4.619833e+05\n",
       "3      34920  5.503600e+05\n",
       "4      58714  3.847625e+05\n",
       "...      ...           ...\n",
       "19783  43102  4.755764e+05\n",
       "19784  22961  1.469635e+06\n",
       "19785   6106  5.623479e+05\n",
       "19786  35370  2.087100e+05\n",
       "19787  24890  1.390060e+05\n",
       "\n",
       "[19788 rows x 2 columns]"
      ]
     },
     "execution_count": 74,
     "metadata": {},
     "output_type": "execute_result"
    }
   ],
   "source": [
    "output = pd.DataFrame({'id': ids, 'price': prediction_city})\n",
    "output"
   ]
  },
  {
   "cell_type": "code",
   "execution_count": 75,
   "id": "79b52931-2c72-4913-9020-596aebf51afd",
   "metadata": {
    "tags": []
   },
   "outputs": [
    {
     "data": {
      "text/html": [
       "<div>\n",
       "<style scoped>\n",
       "    .dataframe tbody tr th:only-of-type {\n",
       "        vertical-align: middle;\n",
       "    }\n",
       "\n",
       "    .dataframe tbody tr th {\n",
       "        vertical-align: top;\n",
       "    }\n",
       "\n",
       "    .dataframe thead th {\n",
       "        text-align: right;\n",
       "    }\n",
       "</style>\n",
       "<table border=\"1\" class=\"dataframe\">\n",
       "  <thead>\n",
       "    <tr style=\"text-align: right;\">\n",
       "      <th></th>\n",
       "      <th>id</th>\n",
       "      <th>price</th>\n",
       "    </tr>\n",
       "  </thead>\n",
       "  <tbody>\n",
       "    <tr>\n",
       "      <th>count</th>\n",
       "      <td>19788.000000</td>\n",
       "      <td>1.978800e+04</td>\n",
       "    </tr>\n",
       "    <tr>\n",
       "      <th>mean</th>\n",
       "      <td>33365.088589</td>\n",
       "      <td>5.859468e+05</td>\n",
       "    </tr>\n",
       "    <tr>\n",
       "      <th>std</th>\n",
       "      <td>19116.407515</td>\n",
       "      <td>6.595508e+05</td>\n",
       "    </tr>\n",
       "    <tr>\n",
       "      <th>min</th>\n",
       "      <td>2.000000</td>\n",
       "      <td>5.605875e+04</td>\n",
       "    </tr>\n",
       "    <tr>\n",
       "      <th>25%</th>\n",
       "      <td>16763.500000</td>\n",
       "      <td>2.619682e+05</td>\n",
       "    </tr>\n",
       "    <tr>\n",
       "      <th>50%</th>\n",
       "      <td>33446.500000</td>\n",
       "      <td>4.011574e+05</td>\n",
       "    </tr>\n",
       "    <tr>\n",
       "      <th>75%</th>\n",
       "      <td>49934.250000</td>\n",
       "      <td>6.286094e+05</td>\n",
       "    </tr>\n",
       "    <tr>\n",
       "      <th>max</th>\n",
       "      <td>66154.000000</td>\n",
       "      <td>1.150027e+07</td>\n",
       "    </tr>\n",
       "  </tbody>\n",
       "</table>\n",
       "</div>"
      ],
      "text/plain": [
       "                 id         price\n",
       "count  19788.000000  1.978800e+04\n",
       "mean   33365.088589  5.859468e+05\n",
       "std    19116.407515  6.595508e+05\n",
       "min        2.000000  5.605875e+04\n",
       "25%    16763.500000  2.619682e+05\n",
       "50%    33446.500000  4.011574e+05\n",
       "75%    49934.250000  6.286094e+05\n",
       "max    66154.000000  1.150027e+07"
      ]
     },
     "execution_count": 75,
     "metadata": {},
     "output_type": "execute_result"
    }
   ],
   "source": [
    "output.describe()"
   ]
  },
  {
   "cell_type": "code",
   "execution_count": 76,
   "id": "5b454672-7c7c-4e6c-9a41-923921078238",
   "metadata": {
    "tags": []
   },
   "outputs": [],
   "source": [
    "#output.to_csv('outputnew.csv', index = False)"
   ]
  }
 ],
 "metadata": {
  "kernelspec": {
   "display_name": "Python 3 (ipykernel)",
   "language": "python",
   "name": "python3"
  },
  "language_info": {
   "codemirror_mode": {
    "name": "ipython",
    "version": 3
   },
   "file_extension": ".py",
   "mimetype": "text/x-python",
   "name": "python",
   "nbconvert_exporter": "python",
   "pygments_lexer": "ipython3",
   "version": "3.11.3"
  }
 },
 "nbformat": 4,
 "nbformat_minor": 5
}
